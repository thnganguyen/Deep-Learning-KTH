{
 "cells": [
  {
   "cell_type": "code",
   "execution_count": 1,
   "metadata": {},
   "outputs": [
    {
     "name": "stdout",
     "output_type": "stream",
     "text": [
      "Automatically created module for IPython interactive environment\n"
     ]
    }
   ],
   "source": [
    "from __future__ import unicode_literals, print_function, division\n",
    "print(__doc__)\n",
    "\n",
    "import numpy as np\n",
    "import matplotlib.pyplot as plt\n",
    "import pandas as pd\n",
    "import seaborn as sns\n",
    "from sklearn.metrics import confusion_matrix\n",
    "from sklearn.utils.multiclass import unique_labels\n",
    "from scipy import sparse\n",
    "\n",
    "from io import open\n",
    "import unicodedata\n",
    "import string, time, random"
   ]
  },
  {
   "cell_type": "code",
   "execution_count": 2,
   "metadata": {},
   "outputs": [],
   "source": [
    "all_letters = string.ascii_letters + \" .,;'\"\n",
    "n_letters = len(all_letters)\n",
    "\n",
    "def unicodeToAscii(s):    \n",
    "    return ''.join(\n",
    "        c for c in unicodedata.normalize('NFD', s)\n",
    "        if unicodedata.category(c) != 'Mn'\n",
    "        and c in all_letters\n",
    "    )\n",
    "\n",
    "def readLines(filename):\n",
    "    lines = open(filename, encoding='utf-8').read().strip().split('\\n')\n",
    "    ys = np.zeros(len(lines))\n",
    "    names = []\n",
    "    for i,line in enumerate(lines):\n",
    "        nn = line.split(' ')\n",
    "        ys[i] = int(nn[-1])\n",
    "        names.append(' '.join(unicodeToAscii(c) for c in nn[:-1]).lower())\n",
    "    return names, ys.astype(int)"
   ]
  },
  {
   "cell_type": "code",
   "execution_count": 3,
   "metadata": {},
   "outputs": [],
   "source": [
    "def loadNames(data_fname):\n",
    "    all_names, labels = readLines(data_fname)\n",
    "    labels -= 1  # encode labels from 0 instead of 1\n",
    "\n",
    "    C = ''.join(sorted({l for word in all_names for l in word}))  # all characters in all_names\n",
    "    d_char = len(C)  # dimension of the one-hot vector to encode each character \n",
    "    lab_name, count_lab = np.unique(labels, return_counts=True)\n",
    "    K = len(lab_name)  # the number of classes\n",
    "    name_len = max([len(name) for name in all_names])  # dimension the one-hot vector to encode each name\n",
    "    N = len(all_names)\n",
    "    \n",
    "    # Encode input to training and validation set\n",
    "    MNames = namesToMatrix(C, all_names, name_len)\n",
    "    Y = np.zeros((K,N))\n",
    "    Y[labels,np.arange(len(labels))] = 1\n",
    "    val_ind = np.genfromtxt('Validation_Inds.txt').astype(int)-1\n",
    "    ind = np.ones(N, dtype=bool)\n",
    "    ind[val_ind] = False\n",
    "    \n",
    "    XVa = MNames[:,val_ind]\n",
    "    YVa = Y[:,val_ind]\n",
    "    labelsVa = labels[val_ind]\n",
    "    \n",
    "    XTr = MNames[:,ind]\n",
    "    YTr = Y[:,ind]\n",
    "    labelsTr = labels[ind]\n",
    "    \n",
    "    reweight = (1/(K*count_lab)).reshape(-1,1)\n",
    "    labels_name = np.genfromtxt('category_labels.txt')\n",
    "    \n",
    "    return XTr, YTr, labelsTr, XVa, YVa, labelsVa, reweight, C\n",
    "\n",
    "\n",
    "def letterToIndex(C,letter):\n",
    "    return C.find(letter)   # can use all_letters instead of C (the n_letters instead of d) for the general case\n",
    "\n",
    "def lineToTensor(C, line, name_len):\n",
    "    d_char = len(C)\n",
    "    if len(line)>name_len:\n",
    "        line = line[:name_len]\n",
    "    tensor = np.zeros((d_char, name_len))\n",
    "    for li, letter in enumerate(line):\n",
    "        tensor[letterToIndex(C,letter)][li] = 1\n",
    "    return tensor\n",
    "\n",
    "def namesToMatrix(C, names, name_len):\n",
    "    N = len(names)\n",
    "    d_char = len(C)\n",
    "    X = np.zeros((d_char*name_len,N))\n",
    "    for i,name in enumerate(names):\n",
    "        X[:,[i]] = lineToTensor(C,name,name_len).T.reshape(-1,1)\n",
    "    return X\n",
    "\n",
    "def readCategory():\n",
    "    lines = open('category_labels.txt', encoding='utf-8').read().strip().split('\\n')\n",
    "    category = {}\n",
    "    for line in lines:\n",
    "        nn = line.split(' ')\n",
    "        category[int(nn[0])-1] = (' '.join(unicodeToAscii(c) for c in nn[1:]))\n",
    "    return category"
   ]
  },
  {
   "cell_type": "code",
   "execution_count": 4,
   "metadata": {},
   "outputs": [],
   "source": [
    "def plot_confusion_matrix(y_true,y_pred,classes,\n",
    "                          normalize=False,\n",
    "                          title=None,\n",
    "                          cmap=plt.cm.Blues,\n",
    "                          save_name=None):\n",
    "    \"\"\"\n",
    "    This function prints and plots the confusion matrix.\n",
    "    Normalization can be applied by setting `normalize=True`.\n",
    "    \"\"\"\n",
    "    if not title:\n",
    "        if normalize:\n",
    "            title = 'Normalized confusion matrix'\n",
    "        else:\n",
    "            title = 'Confusion matrix, without normalization'\n",
    "\n",
    "    # Compute confusion matrix\n",
    "    cm = confusion_matrix(y_true, y_pred)\n",
    "    # Only use the labels that appear in the data\n",
    "    classes = classes[unique_labels(y_true, y_pred)]\n",
    "    if normalize:\n",
    "        cm = cm.astype('float') / cm.sum(axis=1)[:, np.newaxis]\n",
    "        print(\"Normalized confusion matrix\")\n",
    "    else:\n",
    "        print('Confusion matrix, without normalization')\n",
    "\n",
    "    print(cm)\n",
    "\n",
    "    fig, ax = plt.subplots()\n",
    "    im = ax.imshow(cm, interpolation='nearest', cmap=cmap)\n",
    "    ax.figure.colorbar(im, ax=ax)\n",
    "    # We want to show all ticks...\n",
    "    ax.set(xticks=np.arange(cm.shape[1]),\n",
    "           yticks=np.arange(cm.shape[0]),\n",
    "           # ... and label them with the respective list entries\n",
    "           xticklabels=classes, yticklabels=classes,\n",
    "           title=title,\n",
    "           ylabel='True label',\n",
    "           xlabel='Predicted label')\n",
    "\n",
    "    # Rotate the tick labels and set their alignment.\n",
    "    plt.setp(ax.get_xticklabels(), rotation=45, ha=\"right\",\n",
    "             rotation_mode=\"anchor\")\n",
    "\n",
    "    # Loop over data dimensions and create text annotations.\n",
    "    fmt = '.2f' if normalize else 'd'\n",
    "    thresh = cm.max() / 2.\n",
    "    for i in range(cm.shape[0]):\n",
    "        for j in range(cm.shape[1]):\n",
    "            ax.text(j, i, format(cm[i, j], fmt),\n",
    "                    ha=\"center\", va=\"center\",\n",
    "                    color=\"white\" if cm[i, j] > thresh else \"black\")\n",
    "    fig.tight_layout()\n",
    "    if save_name is not None:\n",
    "        fig.savefig('Figures/ConfusionMatrix'+save_name+'.pdf')\n",
    "    return ax\n",
    "\n",
    "def plotResults(x,y,name='loss',save_name=None):\n",
    "    fig = plt.figure()\n",
    "    plt.plot(x,y[0],label='training '+name)\n",
    "    plt.plot(x,y[1],label='validation '+name)\n",
    "    plt.legend(loc=0)\n",
    "    plt.xlabel('n_epoch')\n",
    "    plt.ylabel(name)\n",
    "    if save_name is not None:\n",
    "        fig.savefig('Figures/'+name+'_params'+save_name+'.pdf')\n",
    "    plt.show()"
   ]
  },
  {
   "cell_type": "code",
   "execution_count": 5,
   "metadata": {},
   "outputs": [],
   "source": [
    "class ConvNetwork:\n",
    "\n",
    "    def __init__(self, **kwargs):\n",
    "        \"\"\"\n",
    "        Initialize Convolution Neural Network with data and parameters\n",
    "        \"\"\"\n",
    "\n",
    "        var_defaults = {\n",
    "            \"eta\": 0.001,  # learning rate\n",
    "            \"n_batch\": 100,  # size of data batches within an epoch\n",
    "            \"rho\": 0.9,  # momentum term\n",
    "        }\n",
    "\n",
    "        for var, default in var_defaults.items():\n",
    "            setattr(self, var, kwargs.get(var, default))\n",
    "\n",
    "        self.W = None\n",
    "        self.F = None\n",
    "        self.loss_train_history = []\n",
    "        self.loss_val_history = []\n",
    "    \n",
    "    def init_sets(self, net_structure):\n",
    "        \"\"\"\n",
    "        Initialize a weight matrix of output nodes (k) x features (d) and the filter matrices\n",
    "        \"\"\"\n",
    "        self.F = []\n",
    "        len_net = len(net_structure)-1\n",
    "        for i in range(len_net):\n",
    "            self.F.append(np.random.normal(0,net_structure[i]['std'],net_structure[i]['filter']))\n",
    "\n",
    "        # Initialize weight matrix classes x features\n",
    "        self.W = np.random.normal(0,net_structure[len_net]['std'],net_structure[len_net]['weight'])\n",
    "        \n",
    "    def train(self,net_structure,X,Y,y,dx,n_epochs=100,shuf=False,verbose=False,\n",
    "              show_plot=False,imbalance=False,momentum=False,save_name='0'):\n",
    "        \"\"\"\n",
    "        dx - the dimension of a character\n",
    "        \"\"\"\n",
    "        X_train = X[0]\n",
    "        Y_train = Y[0]\n",
    "        y_train = y[0]\n",
    "        X_val = X[1]\n",
    "        Y_val = Y[1]\n",
    "        y_val = y[1]\n",
    "    \n",
    "        d,n = X_train.shape\n",
    "        K = Y_train.shape[0]\n",
    "        nlen = int(d/dx)\n",
    "        \n",
    "        self.init_sets(net_structure)\n",
    "        numBatches = int(np.floor(n/self.n_batch))\n",
    "        \n",
    "        if imbalance:\n",
    "            y_unique, count_yu = np.unique(y_train, return_counts=True)\n",
    "            yu_min = min(count_yu)\n",
    "            X_imba = X_train[:]\n",
    "            Y_imba = Y_train[:]\n",
    "            y_imba = y_train[:]\n",
    "        \n",
    "        if momentum:\n",
    "            momentW = np.zeros(self.W.shape)\n",
    "            momentF = []\n",
    "            for Fi in self.F:\n",
    "                momentF.append(np.zeros(Fi.shape))\n",
    "        \n",
    "        self.loss_train_history = np.zeros(n_epochs)\n",
    "        self.loss_val_history = np.zeros(n_epochs)\n",
    "        \n",
    "        acc_train_epoch = np.zeros(n_epochs)\n",
    "        acc_val_epoch = np.zeros(n_epochs)\n",
    "            \n",
    "        for i in range(n_epochs):\n",
    "            loss_train = 0  # total loss\n",
    "            acc_train = 0\n",
    "            if imbalance:\n",
    "                permute = list(range(n))\n",
    "                random.shuffle(permute)\n",
    "                permute = np.array(permute)\n",
    "                ind_permute = permute[np.hstack(np.where(y_imba[permute]==i)[0][:yu_min] for i in range(K))]\n",
    "                X_train = X_imba[:,ind_permute]\n",
    "                Y_train = Y_imba[:,ind_permute]\n",
    "                y_train = y_imba[ind_permute]\n",
    "                numBatches = int(np.floor(X_train.shape[1]/self.n_batch))\n",
    "                \n",
    "            if shuf:\n",
    "                permute = list(range(len(y_train)))\n",
    "                random.shuffle(permute)\n",
    "                X_train = X_train[:,permute]\n",
    "                Y_train = Y_train[:,permute]\n",
    "                y_train = y_train[permute]\n",
    "                \n",
    "            XBatch,YBatch,yBatch = self.generateBatches(X_train,Y_train,y_train)\n",
    "                \n",
    "            for j in range(numBatches):\n",
    "                xTr = XBatch[:,:,j]\n",
    "                yTr = YBatch[:,:,j]\n",
    "                ys = yBatch[:,j]\n",
    "                grad_w, grad_f, loss, y_pred = self.backward(xTr, yTr)\n",
    "                               \n",
    "                if momentum:  # update weight with momentum\n",
    "                    momentW = self.rho*momentW + self.eta*grad_w\n",
    "                    self.W = self.W - momentW\n",
    "                    for ii in range(len(self.F)):\n",
    "                        momentF[ii] = self.rho*momentF[ii] + self.eta*grad_f[ii]\n",
    "                        self.F[ii] = self.F[ii] - momentF[ii]\n",
    "                else:                \n",
    "                    # update the weights without momentum\n",
    "                    self.W = self.W - self.eta*grad_w\n",
    "                    for ii in range(len(self.F)):\n",
    "                        self.F[ii] = self.F[ii] - self.eta*grad_f[ii]\n",
    "                loss_train += loss\n",
    "                acc_train += self.computeAccuracy(ys,y_pred)\n",
    "                \n",
    "            self.loss_train_history[i] = loss_train/(numBatches+0.0)\n",
    "            acc_train_epoch[i] = acc_train/(numBatches+0.0)\n",
    "        \n",
    "            if verbose or show_plot:\n",
    "                self.loss_val_history[i], acc_val_epoch[i], yval_pred = self.test(X_val,Y_val,y_val)\n",
    "                \n",
    "            if verbose and (10*(i+1))%n_epochs==0:  # print after 10% of training process           \n",
    "                print(\"Epoch: {} - Training Accuracy: {}% Loss: {} Validation Accuracy: {}%\".format(i, round(acc_train_epoch[i]*100,2), \n",
    "                                                                           self.loss_train_history[i], round(acc_val_epoch[i]*100,2)))\n",
    "                \n",
    "        if show_plot:\n",
    "            plot_confusion_matrix(y_val, yval_pred, \n",
    "                                  classes=np.arange(1,Y_val.shape[0]+1),save_name=save_name)\n",
    "            plotResults(np.arange(n_epochs),[self.loss_train_history, self.loss_val_history],\n",
    "                        name='loss',save_name=save_name) \n",
    "            plotResults(np.arange(n_epochs),[acc_train_epoch, acc_val_epoch],\n",
    "                        name='accuracy',save_name=save_name) \n",
    "            plt.show()\n",
    "            print(\"The final Validation Accuracy: {}%\".format(round(acc_val_epoch[-1]*100,2)))\n",
    "\n",
    "    \n",
    "    def test(self,X,Y,y):\n",
    "        X_,P,y_pred = self.forward(X)\n",
    "        loss = self.computeLoss(X,Y,P)\n",
    "        acc = self.computeAccuracy(y,y_pred)\n",
    "        return loss, acc, y_pred\n",
    "    \n",
    "    def forward(self,X_batch):\n",
    "        X = [] \n",
    "        X_in = X_batch[:]\n",
    "        for i in range(len(self.F)):\n",
    "            nlen = int(X_in.shape[0]/self.F[i].shape[0])\n",
    "            MF = self.makeMFMatrix(i,nlen) \n",
    "            X_in = self.ReLu(np.dot(MF,X_in))\n",
    "            X.append(X_in[:])\n",
    "        P = self.SoftMax(np.dot(self.W,X_in)) \n",
    "        y_pred = np.argmax(P, axis=0)\n",
    "        return X,P,y_pred\n",
    "\n",
    "    def backward(self,X_batch,Y_batch):\n",
    "        dx,nx = X_batch.shape\n",
    "    \n",
    "        grad_F = []\n",
    "        for i in range(len(self.F)):\n",
    "            grad_F.append(np.zeros((1,np.prod(self.F[i].shape))))\n",
    "    \n",
    "        X,P_batch,y_pred = self.forward(X_batch)\n",
    "        loss = self.computeLoss(X_batch, Y_batch, P_batch)\n",
    "        G_batch = P_batch-Y_batch\n",
    "        \n",
    "        grad_W = np.dot(G_batch, X[-1].T)/float(nx)\n",
    "    \n",
    "        M_f = self.W[:]\n",
    "        for i in reversed(range(1,len(self.F))):\n",
    "            d_f,k_f,n_f = self.F[i].shape\n",
    "            G_batch = np.dot(M_f.T,G_batch)\n",
    "           \n",
    "            G_batch = G_batch*(X[i]>0)\n",
    "       \n",
    "            dx,nx = X[i-1].shape\n",
    "            for j in range(nx):\n",
    "                x = X[i-1][:,j]\n",
    "                mx = self.makeMXMatrix(x,d_f,k_f,1)\n",
    "                g_ma = G_batch[:,[j]].reshape(-1,n_f)               \n",
    "                v = np.dot(mx.T,g_ma).T.reshape(1,-1)\n",
    "                #v = np.dot(G_batch[:,[j]].T,self.makeMXMatrix(x,d_f,k_f,n_f))\n",
    "                grad_F[i] += v/float(nx)\n",
    "            \n",
    "            nlen = int(dx/d_f)\n",
    "            M_f = self.makeMFMatrix(i,nlen)\n",
    "            grad_F[i] = grad_F[i].reshape((n_f,k_f,d_f)).T\n",
    "        \n",
    "        # layer 1\n",
    "        d_f,k_f,n_f = self.F[0].shape\n",
    "        G_batch = np.dot(M_f.T,G_batch)\n",
    "           \n",
    "        G_batch = G_batch*(X[0]>0)\n",
    "                \n",
    "        dx,nx = X_batch.shape\n",
    "        for j in range(nx):\n",
    "            x = X_batch[:,j]\n",
    "            #v = self.makeMXMatrix_sparse(x,d_f,k_f,n_f).transpose().dot(G_batch[:,[j]]).T\n",
    "            v = self.makeMXMatrix(x,d_f,k_f,n_f).transpose().dot(G_batch[:,[j]]).T\n",
    "            grad_F[0] = grad_F[0] + v/float(nx)\n",
    "            \n",
    "        nlen = int(dx/d_f)\n",
    "        M_f = self.makeMFMatrix(0,nlen)\n",
    "        grad_F[0] = grad_F[0].reshape((n_f,k_f,d_f)).T\n",
    "    \n",
    "        return grad_W, grad_F, loss, y_pred\n",
    "    \n",
    "    def ReLu(self,s):\n",
    "        return np.maximum(0,s)\n",
    "\n",
    "    def SoftMax(self,s):\n",
    "        p = np.exp(s)/np.expand_dims(np.exp(s).sum(axis=0),axis=0)  # matrix of size KxN\n",
    "        return p\n",
    "    \n",
    "    def makeMFMatrix(self,ind_fil,ncol):\n",
    "        \"\"\"\n",
    "        F[ind_fil] has the same row to X that means size of F is (d x k x nf) and \n",
    "        ncol>k which is the number of column of the input\n",
    "        \"\"\"\n",
    "        fil = self.F[ind_fil]\n",
    "        dd,kk,n_filter = fil.shape\n",
    "        M_filter = np.zeros((n_filter*(ncol-kk+1),dd*ncol))\n",
    "        F_vec = fil[:].T.reshape(n_filter,-1)\n",
    "        for i in range(ncol-kk+1):\n",
    "            M_filter[i*n_filter:(i+1)*n_filter,i*dd:F_vec.shape[1]+i*dd] = F_vec\n",
    "        return M_filter\n",
    "\n",
    "    def makeMXMatrix(self,x_input,d,k,nf):\n",
    "        nlen = int(x_input.shape[0]/d)\n",
    "        MX = np.zeros((nf*(nlen-k+1),k*nf*d))\n",
    "        if nf==1:\n",
    "            for i in range(nlen-k+1):\n",
    "                MX[i*nf:(i+1)*nf,:] = x_input[i*d:(i+k)*d]\n",
    "        else:\n",
    "            for i in range(nlen-k+1):\n",
    "                MX[i*nf:(i+1)*nf,:] = np.kron(np.eye(nf),x_input[i*d:(i+k)*d])\n",
    "        return MX\n",
    "    \n",
    "    \n",
    "    def makeMXMatrix_sparse(x_input,d,k,nf):\n",
    "        nlen = int(x_input.shape[0]/d)   \n",
    "        nr = nf*(nlen-k+1)\n",
    "        nc = k*nf*d\n",
    "        MX = sparse.lil_matrix((nr,nc))\n",
    "        ind_no = np.nonzero(x_input)[0]         \n",
    "        for i in ind_no:\n",
    "            r = i//d\n",
    "            c = i%d\n",
    "            for j in range(min(k,r+1,nlen-r)):\n",
    "                MX[np.arange(nf)*r+j,np.arange(nf)+c] = x_input[i]\n",
    "        return MX  \n",
    "\n",
    "    \n",
    "    def computeAccuracy(self,labels,y_pred):\n",
    "        acc = np.sum(labels==y_pred)/(len(labels)+0.0)\n",
    "        return acc\n",
    "\n",
    "    def computeLoss(self,X, Y, P):\n",
    "        loss = np.sum(-np.log(np.diag(np.dot(Y.T,P))))/(X.shape[1]+0.0)\n",
    "        return loss\n",
    "\n",
    "    def generateBatches(self,X,Y,y):\n",
    "        d,n = X.shape\n",
    "        K = Y.shape[0]\n",
    "        XBatch = np.zeros((d,self.n_batch,int(n/self.n_batch)))\n",
    "        YBatch = np.zeros((K,self.n_batch,int(n/self.n_batch)))\n",
    "        yBatch = np.zeros((self.n_batch,int(n/self.n_batch)))\n",
    "    \n",
    "        for i in range(int(n/self.n_batch)):\n",
    "            i_start = i*self.n_batch\n",
    "            i_end = (i+1)*self.n_batch\n",
    "            XBatch[:,:,i] = X[:,i_start:i_end]\n",
    "            YBatch[:,:,i] = Y[:,i_start:i_end]\n",
    "            yBatch[:,i] = y[i_start:i_end]\n",
    "        return XBatch, YBatch, yBatch\n",
    "    \n",
    "    def NumericalGradient(self, X, Y, h):\n",
    "        grad_W = np.zeros(self.W.shape)\n",
    "        grad_F = []\n",
    "        for l in range(len(self.F)):  \n",
    "            Fk = self.F[l]\n",
    "            grad_Fk = np.zeros(Fk.shape)\n",
    "            for k in range(Fk.shape[2]):\n",
    "                for j in range(Fk.shape[1]):\n",
    "                    for i in range(Fk.shape[0]):\n",
    "                        Fk[i,j,k] -= h\n",
    "                        X_,P,y_pred = self.forward(X)\n",
    "                        l1 = self.computeLoss(X, Y, P)\n",
    "                    \n",
    "                        Fk[i,j,k] += 2*h                    \n",
    "                        X_,P,y_pred = self.forward(X)\n",
    "                        l2 = self.computeLoss(X, Y, P)\n",
    "                    \n",
    "                        grad_Fk[i,j,k] = (l2-l1)/(2*h)\n",
    "                        Fk[i,j,k] -= h\n",
    "            grad_F.append(grad_Fk)\n",
    "        \n",
    "        # compute the gradient for the fully connected layer\n",
    "        for j in range(self.W.shape[1]):\n",
    "            for i in range(self.W.shape[0]):\n",
    "                self.W[i,j] -= h\n",
    "                X_,P,y_pred = self.forward(X)\n",
    "                l1 = self.computeLoss(X, Y, P)\n",
    "            \n",
    "                self.W[i,j] += 2*h\n",
    "                X_,P,y_pred = self.forward(X)\n",
    "                l2 = self.computeLoss(X, Y, P)\n",
    "            \n",
    "                grad_W[i,j] = (l2-l1)/(2*h)\n",
    "                self.W[i,j] -= h\n",
    "            \n",
    "        return grad_W, grad_F\n",
    "\n",
    "    # Check gradient computation\n",
    "    def checkGrads(self, X, Y, reweight, h=1e-6):\n",
    "        eps = 1e-30\n",
    "        error = 1e-6\n",
    "    \n",
    "        gW1,gF1 = self.NumericalGradient(X,Y,h)\n",
    "        gW2,gF2,l_,y_ = self.backward(X,Y)\n",
    "           \n",
    "        error_w = np.abs(gW1-gW2)/np.maximum(eps,np.abs(gW1)+np.abs(gW2))\n",
    "        print('The number of error (relative error > 1e-6) of W:', np.sum(error_w>error))\n",
    "        print('The maximum of relative error of W:', np.max(error_w))\n",
    "\n",
    "        total_error_f = 0\n",
    "    \n",
    "        for i in range(len(self.F)):\n",
    "            error_f = np.abs(gF1[i]-gF2[i])/np.maximum(eps,np.abs(gF1[i])+np.abs(gF2[i]))\n",
    "            total_error_f += np.sum(error_f>error)\n",
    "            max_f = np.max(error_f)        \n",
    "            print('The number of errors (relative error > 1e-6) of filter {}: {}'.format(i,total_error_f))\n",
    "            print('The maximum of relative error of filter {}: {}'.format(i,max_f))"
   ]
  },
  {
   "cell_type": "markdown",
   "metadata": {},
   "source": [
    "## 1. Read in the data and get it ready"
   ]
  },
  {
   "cell_type": "code",
   "execution_count": 6,
   "metadata": {},
   "outputs": [],
   "source": [
    "data_fname = 'ascii_names.txt'\n",
    "XTr, YTr, yTr, XVa, YVa, yVa, reweight, total_char = loadNames(data_fname)\n",
    "d_char = len(total_char)\n",
    "\n",
    "category = readCategory()  # dictinary of class names"
   ]
  },
  {
   "cell_type": "code",
   "execution_count": 7,
   "metadata": {},
   "outputs": [
    {
     "name": "stdout",
     "output_type": "stream",
     "text": [
      "28\n"
     ]
    }
   ],
   "source": [
    "print(d_char)"
   ]
  },
  {
   "cell_type": "code",
   "execution_count": 8,
   "metadata": {},
   "outputs": [],
   "source": [
    "all_names, labels = readLines(data_fname)"
   ]
  },
  {
   "cell_type": "code",
   "execution_count": 14,
   "metadata": {},
   "outputs": [
    {
     "name": "stdout",
     "output_type": "stream",
     "text": [
      "19\n",
      "shirinskyshikhmatov\n"
     ]
    }
   ],
   "source": [
    "print(max([len(name) for name in all_names]))\n",
    "print(all_names[np.argmax([len(name) for name in all_names])])"
   ]
  },
  {
   "cell_type": "markdown",
   "metadata": {},
   "source": [
    "## 2. Set hyper-parameter and initialize the ConvNet's parameters"
   ]
  },
  {
   "cell_type": "code",
   "execution_count": 19,
   "metadata": {
    "scrolled": false
   },
   "outputs": [],
   "source": [
    "nlen = int(XTr.shape[0]/d_char)\n",
    "# filter layer 1\n",
    "k1 = 5\n",
    "n1 = 5\n",
    "sig1 = np.sqrt(2./(10*k1))  # For the first layer where input is sparse d_char is set is 10\n",
    "# filter layer 2\n",
    "k2 = 5\n",
    "n2 = 5\n",
    "sig2 = np.sqrt(2./(n1*k2))\n",
    "# weights\n",
    "K = YTr.shape[0]\n",
    "fsize = n2*(nlen-k1-k2+2)\n",
    "sig3 = np.sqrt(2./fsize)\n",
    "\n",
    "model_paras = {\"eta\": 0.001,  # learning rate\n",
    "               \"n_batch\": 100,  # size of data batches within an epoch\n",
    "               \"rho\": 0.9,  # momentum term\n",
    "              }\n",
    "\n",
    "net_struc = {0:{'std':sig1,'filter':[d_char,k1,n1]}, # filter 1\n",
    "             1:{'std':sig2,'filter':[n1,k2,n2]},  # filter 2\n",
    "             2:{'std':sig3,'weight':[K,fsize]}  # weights\n",
    "            }  \n",
    "\n",
    "net = ConvNetwork(**model_paras)\n",
    "net.init_sets(net_struc)"
   ]
  },
  {
   "cell_type": "markdown",
   "metadata": {},
   "source": [
    "## 3. Construct the convolution matrices"
   ]
  },
  {
   "cell_type": "code",
   "execution_count": 28,
   "metadata": {},
   "outputs": [
    {
     "name": "stdout",
     "output_type": "stream",
     "text": [
      "0\n"
     ]
    }
   ],
   "source": [
    "# debug MF and MX\n",
    "x_input = XTr[:,:1]\n",
    "\n",
    "dd,kk,nf = net.F[0].shape\n",
    "\n",
    "s1 = np.dot(net.makeMXMatrix(x_input,dd,kk,nf), net.F[0].T.reshape(-1,1))\n",
    "s2 = np.dot(net.makeMFMatrix(0,nlen), x_input)\n",
    "print(np.sum(np.abs(s1-s2)>1e-100))"
   ]
  },
  {
   "cell_type": "markdown",
   "metadata": {},
   "source": [
    "## 4. Implement the forward and backward pass of back-prop"
   ]
  },
  {
   "cell_type": "code",
   "execution_count": 44,
   "metadata": {},
   "outputs": [
    {
     "name": "stdout",
     "output_type": "stream",
     "text": [
      "The number of error (relative error > 1e-6) of W: 0\n",
      "The maximum of relative error of W: 4.940123577024272e-07\n",
      "The number of errors (relative error > 1e-6) of filter 0: 0\n",
      "The maximum of relative error of filter 0: 7.582209070388632e-07\n",
      "The number of errors (relative error > 1e-6) of filter 1: 0\n",
      "The maximum of relative error of filter 1: 8.724810501754798e-07\n"
     ]
    }
   ],
   "source": [
    "# Numerical check for gradients\n",
    "nlen = int(XTr.shape[0]/d_char)\n",
    "# filter layer 1\n",
    "k1 = 5\n",
    "n1 = 5\n",
    "sig1 = np.sqrt(2./(10*k1))  # For the first layer where input is sparse d_char is set is 10\n",
    "# filter layer 2\n",
    "k2 = 5\n",
    "n2 = 5\n",
    "sig2 = np.sqrt(2./(n1*k2))\n",
    "# weights\n",
    "K = YTr.shape[0]\n",
    "fsize = n2*(nlen-k1-k2+2)\n",
    "sig3 = np.sqrt(2./fsize)\n",
    "\n",
    "model_paras = {\"eta\": 0.001,  # learning rate\n",
    "               \"n_batch\": 1,  # size of data batches within an epoch\n",
    "               \"rho\": 0.9,  # momentum term\n",
    "              }\n",
    "\n",
    "net_struc = {0:{'std':sig1,'filter':[d_char,k1,n1]}, # filter 1\n",
    "             1:{'std':sig2,'filter':[n1,k2,n2]},  # filter 2\n",
    "             2:{'std':sig3,'weight':[K,fsize]}  # weights\n",
    "            }  \n",
    "\n",
    "net = ConvNetwork(**model_paras)\n",
    "net.init_sets(net_struc)\n",
    "net.checkGrads(XTr[:,:6], YTr[:,:6], 1e-5)"
   ]
  },
  {
   "cell_type": "code",
   "execution_count": 45,
   "metadata": {},
   "outputs": [
    {
     "name": "stdout",
     "output_type": "stream",
     "text": [
      "The number of error (relative error > 1e-6) of W: 2\n",
      "The maximum of relative error of W: 2.9212056861892006e-06\n",
      "The number of errors (relative error > 1e-6) of filter 0: 0\n",
      "The maximum of relative error of filter 0: 2.9442325781691894e-07\n",
      "The number of errors (relative error > 1e-6) of filter 1: 0\n",
      "The maximum of relative error of filter 1: 3.92294992692926e-07\n"
     ]
    }
   ],
   "source": [
    "model_paras = {\"eta\": 0.001,  # learning rate\n",
    "               \"n_batch\": 2,  # size of data batches within an epoch\n",
    "               \"rho\": 0.9,  # momentum term\n",
    "              } \n",
    "\n",
    "net = ConvNetwork(**model_paras)\n",
    "net.init_sets(net_struc)\n",
    "net.checkGrads(XTr[:,:6], YTr[:,:6], 1e-5)"
   ]
  },
  {
   "cell_type": "code",
   "execution_count": 80,
   "metadata": {},
   "outputs": [
    {
     "name": "stdout",
     "output_type": "stream",
     "text": [
      "The number of error (relative error > 1e-6) of W: 0\n",
      "The maximum of relative error of W: 9.539478143083176e-07\n",
      "The number of errors (relative error > 1e-6) of filter 0: 1\n",
      "The maximum of relative error of filter 0: 4.672309403308377e-06\n",
      "The number of errors (relative error > 1e-6) of filter 1: 1\n",
      "The maximum of relative error of filter 1: 5.108455966805446e-07\n"
     ]
    }
   ],
   "source": [
    "model_paras = {\"eta\": 0.001,  # learning rate\n",
    "               \"n_batch\": 3,  # size of data batches within an epoch\n",
    "               \"rho\": 0.9,  # momentum term\n",
    "              } \n",
    "\n",
    "net = ConvNetwork(**model_paras)\n",
    "net.init_sets(net_struc)\n",
    "net.checkGrads(XTr[:,:6], YTr[:,:6], 1e-5)"
   ]
  },
  {
   "cell_type": "markdown",
   "metadata": {},
   "source": [
    "### The efficient of extra measures"
   ]
  },
  {
   "cell_type": "code",
   "execution_count": 85,
   "metadata": {},
   "outputs": [
    {
     "name": "stdout",
     "output_type": "stream",
     "text": [
      "Execution time:  50.5283682346344\n"
     ]
    }
   ],
   "source": [
    "# Not Using the upgrade method\n",
    "nlen = int(XTr.shape[0]/d_char)   # = 19\n",
    "# filter layer 1\n",
    "k1 = 5\n",
    "n1 = 10\n",
    "sig1 = np.sqrt(2./(10*k1))  # For the first layer where input is sparse d_char is set is 10\n",
    "# filter layer 2\n",
    "k2 = 3\n",
    "n2 = 10\n",
    "sig2 = np.sqrt(2./(n1*k2))\n",
    "# weights\n",
    "K = YTr.shape[0]\n",
    "fsize = n2*(nlen-k1-k2+2)\n",
    "sig3 = np.sqrt(2./fsize)\n",
    "\n",
    "model_paras = {\"eta\": 0.001,  # learning rate\n",
    "               \"n_batch\": 100,  # size of data batches within an epoch\n",
    "               \"rho\": 0.9,  # momentum term\n",
    "              }\n",
    "\n",
    "net_struc = {0:{'std':sig1,'filter':[d_char,k1,n1]}, # filter 1, d_char = 28\n",
    "             1:{'std':sig2,'filter':[n1,k2,n2]},  # filter 2\n",
    "             2:{'std':sig3, 'weight':[K,fsize]}  # weights\n",
    "            } \n",
    "\n",
    "net = ConvNetwork(**model_paras)\n",
    "tic = time.time()\n",
    "net.train(net_struc,[XTr,XVa],[YTr,YVa],[yTr,yVa],d_char,n_epochs=1,shuf=True,\n",
    "          momentum=True)\n",
    "toc = time.time()\n",
    "print('Execution time: ',toc-tic)"
   ]
  },
  {
   "cell_type": "code",
   "execution_count": 15,
   "metadata": {},
   "outputs": [
    {
     "name": "stdout",
     "output_type": "stream",
     "text": [
      "Execution time:  33.711302042007446\n"
     ]
    }
   ],
   "source": [
    "# Using the upgrade method -> make comment for line 179 and uncomment for lines 176-178 (in backward pass)\n",
    "nlen = int(XTr.shape[0]/d_char)\n",
    "# filter layer 1\n",
    "k1 = 5\n",
    "n1 = 10\n",
    "sig1 = np.sqrt(2./(10*k1))  # For the first layer where input is sparse d_char is set is 10\n",
    "# filter layer 2\n",
    "k2 = 3\n",
    "n2 = 10\n",
    "sig2 = np.sqrt(2./(n1*k2))\n",
    "# weights\n",
    "K = YTr.shape[0]\n",
    "fsize = n2*(nlen-k1-k2+2)\n",
    "sig3 = np.sqrt(2./fsize)\n",
    "\n",
    "model_paras = {\"eta\": 0.001,  # learning rate\n",
    "               \"n_batch\": 100,  # size of data batches within an epoch\n",
    "               \"rho\": 0.9,  # momentum term\n",
    "              }\n",
    "\n",
    "net_struc = {0:{'std':sig1,'filter':[d_char,k1,n1]}, # filter 1\n",
    "             1:{'std':sig2,'filter':[n1,k2,n2]},  # filter 2\n",
    "             2:{'std':sig3, 'weight':[K,fsize]}  # weights\n",
    "            }\n",
    "\n",
    "net = ConvNetwork(**model_paras)\n",
    "tic = time.time()\n",
    "net.train(net_struc,[XTr,XVa],[YTr,YVa],[yTr,yVa],d_char,n_epochs=1,shuf=True,\n",
    "          momentum=True)\n",
    "toc = time.time()\n",
    "print('Execution time: ',toc-tic)"
   ]
  },
  {
   "cell_type": "markdown",
   "metadata": {},
   "source": [
    "## 5. Train using mini-batch gradient descent with momentum"
   ]
  },
  {
   "cell_type": "code",
   "execution_count": 61,
   "metadata": {
    "scrolled": false
   },
   "outputs": [
    {
     "name": "stdout",
     "output_type": "stream",
     "text": [
      "Epoch: 0 - Training Accuracy: 40.14% Loss: 2.174973924054029 Validation Accuracy: 5.95%\n",
      "Epoch: 15 - Training Accuracy: 62.09% Loss: 1.3159922870060923 Validation Accuracy: 13.89%\n",
      "Epoch: 30 - Training Accuracy: 67.61% Loss: 1.1131024769539684 Validation Accuracy: 17.06%\n",
      "Epoch: 45 - Training Accuracy: 70.77% Loss: 0.9982686819275871 Validation Accuracy: 21.83%\n",
      "Epoch: 60 - Training Accuracy: 73.26% Loss: 0.918596530349604 Validation Accuracy: 24.6%\n",
      "Epoch: 75 - Training Accuracy: 75.03% Loss: 0.8527099070777641 Validation Accuracy: 29.37%\n",
      "Epoch: 90 - Training Accuracy: 76.49% Loss: 0.7985446921431112 Validation Accuracy: 29.37%\n",
      "Epoch: 105 - Training Accuracy: 77.96% Loss: 0.7519751845805042 Validation Accuracy: 32.54%\n",
      "Epoch: 120 - Training Accuracy: 79.1% Loss: 0.7139838922790799 Validation Accuracy: 34.92%\n",
      "Epoch: 135 - Training Accuracy: 79.72% Loss: 0.6822009289203778 Validation Accuracy: 36.51%\n",
      "Confusion matrix, without normalization\n",
      "[[14  0  0  0  0  0  0  0  0  0  0  0  0  0  0  0  0  0]\n",
      " [ 0 11  0  0  2  0  0  0  0  0  0  0  0  0  1  0  0  0]\n",
      " [ 1  0  1  0  5  0  1  0  0  0  1  0  2  0  2  0  1  0]\n",
      " [ 0  0  0  0  7  0  2  1  0  0  1  0  1  0  2  0  0  0]\n",
      " [ 0  0  0  0 13  0  0  0  0  0  0  0  0  0  1  0  0  0]\n",
      " [ 0  1  0  0 10  0  2  0  0  0  0  0  0  0  1  0  0  0]\n",
      " [ 1  0  1  1  3  0  6  0  0  0  0  0  0  0  2  0  0  0]\n",
      " [ 2  0  0  0  2  0  0  7  0  1  0  0  0  0  2  0  0  0]\n",
      " [ 0  0  0  0 10  0  1  0  1  0  0  0  0  0  2  0  0  0]\n",
      " [ 0  0  0  0  2  0  0  0  0 11  1  0  0  0  0  0  0  0]\n",
      " [ 1  1  0  0  0  0  0  0  0  0 12  0  0  0  0  0  0  0]\n",
      " [ 0  6  0  0  4  0  0  0  0  0  3  0  0  0  1  0  0  0]\n",
      " [ 0  0  2  0  1  1  0  0  0  0  0  0  4  0  6  0  0  0]\n",
      " [ 1  1  0  0  6  0  1  0  0  1  2  0  0  0  1  0  1  0]\n",
      " [ 0  0  0  0  0  0  0  0  0  0  0  0  0  0 14  0  0  0]\n",
      " [ 0  0  0  0 14  0  0  0  0  0  0  0  0  0  0  0  0  0]\n",
      " [ 4  0  0  0  4  0  0  0  0  1  1  0  0  0  3  0  1  0]\n",
      " [ 0  7  0  0  6  0  0  0  0  0  1  0  0  0  0  0  0  0]]\n"
     ]
    },
    {
     "data": {
      "image/png": "[encoded data removed]",
      "text/plain": [
       "<Figure size 432x288 with 2 Axes>"
      ]
     },
     "metadata": {
      "needs_background": "light"
     },
     "output_type": "display_data"
    },
    {
     "data": {
      "image/png": "[encoded data removed]",
      "text/plain": [
       "<Figure size 432x288 with 1 Axes>"
      ]
     },
     "metadata": {
      "needs_background": "light"
     },
     "output_type": "display_data"
    },
    {
     "data": {
      "image/png": "[encoded data removed]",
      "text/plain": [
       "<Figure size 432x288 with 1 Axes>"
      ]
     },
     "metadata": {
      "needs_background": "light"
     },
     "output_type": "display_data"
    },
    {
     "name": "stdout",
     "output_type": "stream",
     "text": [
      "The final Validation Accuracy: 37.7%\n",
      "Execution time:  17870.691295146942\n"
     ]
    }
   ],
   "source": [
    "# (2.iii) Train with > 20,000 updates without compensating for the unbalanced dataset\n",
    "nlen = int(XTr.shape[0]/d_char)\n",
    "# filter layer 1\n",
    "k1 = 5\n",
    "n1 = 20\n",
    "sig1 = np.sqrt(2./(10*k1))  # For the first layer where input is sparse d_char is set is 10\n",
    "# filter layer 2\n",
    "k2 = 3\n",
    "n2 = 20\n",
    "sig2 = np.sqrt(2./(n1*k2))\n",
    "# weights\n",
    "K = YTr.shape[0]\n",
    "fsize = n2*(nlen-k1-k2+2)\n",
    "sig3 = np.sqrt(2./fsize)\n",
    "\n",
    "model_paras = {\"eta\": 0.001,  # learning rate\n",
    "               \"n_batch\": 100,  # size of data batches within an epoch\n",
    "               \"rho\": 0.9,  # momentum term\n",
    "              }\n",
    "\n",
    "net_struc = {0:{'std':sig1,'filter':[d_char,k1,n1]}, # filter 1\n",
    "             1:{'std':sig2,'filter':[n1,k2,n2]},  # filter 2\n",
    "             2:{'std':sig3, 'weight':[K,fsize]}  # weights\n",
    "            } \n",
    "\n",
    "net = ConvNetwork(**model_paras)\n",
    "tic = time.time()\n",
    "net.train(net_struc,[XTr,XVa],[YTr,YVa],[yTr,yVa],d_char,n_epochs=150,shuf=True,\n",
    "          verbose=True,show_plot=True,momentum=True,save_name='unbalance')\n",
    "toc = time.time()\n",
    "print('Execution time: ',toc-tic)"
   ]
  },
  {
   "cell_type": "code",
   "execution_count": 90,
   "metadata": {},
   "outputs": [
    {
     "name": "stdout",
     "output_type": "stream",
     "text": [
      "Epoch: 199 - Training Accuracy: 32.96% Loss: 2.1949102034036625 Validation Accuracy: 28.17%\n",
      "Epoch: 399 - Training Accuracy: 45.95% Loss: 1.6873337797980863 Validation Accuracy: 36.51%\n",
      "Epoch: 599 - Training Accuracy: 51.79% Loss: 1.480132079683033 Validation Accuracy: 43.25%\n",
      "Epoch: 799 - Training Accuracy: 56.4% Loss: 1.3113943401169454 Validation Accuracy: 47.22%\n",
      "Epoch: 999 - Training Accuracy: 63.28% Loss: 1.194737868537648 Validation Accuracy: 48.41%\n",
      "Epoch: 1199 - Training Accuracy: 62.62% Loss: 1.1093901545616065 Validation Accuracy: 50.0%\n",
      "Epoch: 1399 - Training Accuracy: 68.93% Loss: 1.0303134512203556 Validation Accuracy: 50.4%\n",
      "Epoch: 1599 - Training Accuracy: 70.53% Loss: 0.9456620692332032 Validation Accuracy: 50.79%\n",
      "Epoch: 1799 - Training Accuracy: 72.79% Loss: 0.8756056524301317 Validation Accuracy: 51.59%\n",
      "Epoch: 1999 - Training Accuracy: 76.18% Loss: 0.7748262380064894 Validation Accuracy: 52.78%\n",
      "Confusion matrix, without normalization\n",
      "[[13  1  0  0  0  0  0  0  0  0  0  0  0  0  0  0  0  0]\n",
      " [ 0 12  0  0  0  0  0  0  0  0  0  1  0  0  0  0  0  1]\n",
      " [ 0  0  4  1  1  1  1  0  0  0  1  0  3  0  0  0  1  1]\n",
      " [ 0  0  1  9  0  0  0  1  0  0  0  0  1  0  1  0  1  0]\n",
      " [ 0  0  1  2  4  3  0  0  1  0  0  1  0  0  0  2  0  0]\n",
      " [ 1  0  0  2  1  7  0  0  1  0  0  0  1  0  0  0  1  0]\n",
      " [ 0  0  0  1  0  1  8  0  0  0  0  0  0  0  0  3  0  1]\n",
      " [ 1  0  0  0  1  0  0 11  0  0  1  0  0  0  0  0  0  0]\n",
      " [ 0  0  0  0  2  2  0  0  7  0  0  0  0  0  1  2  0  0]\n",
      " [ 0  0  0  0  0  1  0  1  0  7  0  0  0  2  0  1  2  0]\n",
      " [ 1  1  0  0  0  1  0  0  0  0  7  0  1  1  0  1  0  1]\n",
      " [ 1  4  1  0  0  0  0  0  0  0  0  8  0  0  0  0  0  0]\n",
      " [ 0  0  1  0  1  0  0  0  0  0  0  0  9  0  2  0  1  0]\n",
      " [ 0  0  1  0  0  2  0  2  0  0  0  1  0  2  0  0  6  0]\n",
      " [ 0  1  1  0  0  1  0  0  0  0  0  0  0  0 11  0  0  0]\n",
      " [ 0  0  0  1  5  0  2  0  3  0  0  0  0  0  0  3  0  0]\n",
      " [ 0  0  1  0  1  1  0  2  0  2  0  0  0  4  0  0  3  0]\n",
      " [ 0  1  0  0  0  1  0  0  1  0  1  2  0  0  0  0  0  8]]\n"
     ]
    },
    {
     "data": {
      "image/png": "[encoded data removed]",
      "text/plain": [
       "<Figure size 432x288 with 2 Axes>"
      ]
     },
     "metadata": {
      "needs_background": "light"
     },
     "output_type": "display_data"
    },
    {
     "data": {
      "image/png": "[encoded data removed]",
      "text/plain": [
       "<Figure size 432x288 with 1 Axes>"
      ]
     },
     "metadata": {
      "needs_background": "light"
     },
     "output_type": "display_data"
    },
    {
     "data": {
      "image/png": "[encoded data removed]",
      "text/plain": [
       "<Figure size 432x288 with 1 Axes>"
      ]
     },
     "metadata": {
      "needs_background": "light"
     },
     "output_type": "display_data"
    },
    {
     "name": "stdout",
     "output_type": "stream",
     "text": [
      "The final Validation Accuracy: 52.78%\n",
      "Execution time:  17416.59308075905\n"
     ]
    }
   ],
   "source": [
    "# Train with 20,000 updates with compensating for the unbalanced dataset\n",
    "nlen = int(XTr.shape[0]/d_char)\n",
    "# filter layer 1\n",
    "k1 = 5\n",
    "n1 = 20\n",
    "sig1 = np.sqrt(2./(10*k1))  # For the first layer where input is sparse d_char is set is 10\n",
    "# filter layer 2\n",
    "k2 = 3\n",
    "n2 = 20\n",
    "sig2 = np.sqrt(2./(n1*k2))\n",
    "# weights\n",
    "K = YTr.shape[0]\n",
    "fsize = n2*(nlen-k1-k2+2)\n",
    "sig3 = np.sqrt(2./fsize)\n",
    "\n",
    "model_paras = {\"eta\": 0.001,  # learning rate\n",
    "               \"n_batch\": 59,  # size of data batches within an epoch\n",
    "               \"rho\": 0.9,  # momentum term\n",
    "              }\n",
    "\n",
    "net_struc = {0:{'std':sig1,'filter':[d_char,k1,n1]}, # filter 1\n",
    "             1:{'std':sig2,'filter':[n1,k2,n2]},  # filter 2\n",
    "             2:{'std':sig3, 'weight':[K,fsize]}  # weights\n",
    "            } \n",
    "\n",
    "net = ConvNetwork(**model_paras)\n",
    "tic = time.time()\n",
    "net.train(net_struc,[XTr,XVa],[YTr,YVa],[yTr,yVa],d_char,n_epochs=2000,shuf=True,\n",
    "          verbose=True,show_plot=True,imbalance=True,momentum=True,save_name='balance')\n",
    "toc = time.time()\n",
    "print('Execution time: ',toc-tic)"
   ]
  },
  {
   "cell_type": "markdown",
   "metadata": {},
   "source": [
    "## Accuracy for each class of the best performance"
   ]
  },
  {
   "cell_type": "code",
   "execution_count": 103,
   "metadata": {},
   "outputs": [
    {
     "name": "stdout",
     "output_type": "stream",
     "text": [
      "Execution time:  16071.032768011093\n"
     ]
    }
   ],
   "source": [
    "nlen = int(XTr.shape[0]/d_char)\n",
    "# filter layer 1\n",
    "k1 = 5\n",
    "n1 = 20\n",
    "sig1 = np.sqrt(2./(10*k1))  # For the first layer where input is sparse d_char is set is 10\n",
    "# filter layer 2\n",
    "k2 = 3\n",
    "n2 = 50\n",
    "sig2 = np.sqrt(2./(n1*k2))\n",
    "# weights\n",
    "K = YTr.shape[0]\n",
    "fsize = n2*(nlen-k1-k2+2)\n",
    "sig3 = np.sqrt(2./fsize)\n",
    "\n",
    "model_paras = {\"eta\": 0.001,  # learning rate\n",
    "               \"n_batch\": 59,  # size of data batches within an epoch\n",
    "               \"rho\": 0.9,  # momentum term\n",
    "              }\n",
    "\n",
    "net_struc = {0:{'std':sig1,'filter':[d_char,k1,n1]}, # filter 1\n",
    "             1:{'std':sig2,'filter':[n1,k2,n2]},  # filter 2\n",
    "             2:{'std':sig3, 'weight':[K,fsize]}  # weights\n",
    "            } \n",
    "\n",
    "net = ConvNetwork(**model_paras)\n",
    "tic = time.time()\n",
    "net.train(net_struc,[XTr,XVa],[YTr,YVa],[yTr,yVa],d_char,n_epochs=2500,shuf=True,\n",
    "          imbalance=True,momentum=True,save_name='best')\n",
    "toc = time.time()\n",
    "print('Execution time: ',toc-tic)"
   ]
  },
  {
   "cell_type": "code",
   "execution_count": 105,
   "metadata": {},
   "outputs": [
    {
     "name": "stdout",
     "output_type": "stream",
     "text": [
      "Confusion matrix, without normalization\n",
      "[[14  0  0  0  0  0  0  0  0  0  0  0  0  0  0  0  0  0]\n",
      " [ 0 13  0  0  0  0  0  0  0  0  0  0  0  0  0  0  0  1]\n",
      " [ 0  0  4  1  0  0  1  0  1  1  1  0  3  0  1  0  0  1]\n",
      " [ 0  0  2  9  0  1  0  1  0  0  0  0  0  0  0  0  1  0]\n",
      " [ 0  0  0  1  5  3  1  0  1  0  0  1  0  0  0  2  0  0]\n",
      " [ 0  0  1  1  3  2  0  1  2  0  0  0  1  0  1  0  2  0]\n",
      " [ 0  0  0  2  2  0  8  0  1  0  0  0  0  1  0  0  0  0]\n",
      " [ 1  0  0  0  1  1  0  7  0  1  1  0  0  0  1  0  1  0]\n",
      " [ 1  0  1  0  0  0  0  0  9  0  0  0  0  0  0  3  0  0]\n",
      " [ 1  0  0  0  0  1  0  1  0  7  0  0  0  3  0  0  1  0]\n",
      " [ 1  1  0  1  0  0  0  0  0  0 11  0  0  0  0  0  0  0]\n",
      " [ 0  3  0  0  0  0  1  0  0  0  0  9  0  0  1  0  0  0]\n",
      " [ 0  0  4  0  0  0  0  0  0  0  1  0  6  0  3  0  0  0]\n",
      " [ 0  0  1  0  0  0  0  1  0  1  0  0  0  2  0  1  8  0]\n",
      " [ 0  0  1  0  0  0  1  0  0  0  0  1  0  0 11  0  0  0]\n",
      " [ 0  0  0  1  5  0  1  0  1  0  0  0  0  0  0  4  2  0]\n",
      " [ 0  0  0  1  1  0  0  1  0  2  1  0  0  3  1  0  4  0]\n",
      " [ 0  2  0  0  0  0  0  0  1  0  0  1  0  0  0  0  0 10]]\n"
     ]
    },
    {
     "data": {
      "image/png": "[encoded data removed]",
      "text/plain": [
       "<Figure size 432x288 with 2 Axes>"
      ]
     },
     "metadata": {
      "needs_background": "light"
     },
     "output_type": "display_data"
    },
    {
     "name": "stdout",
     "output_type": "stream",
     "text": [
      "The final Validation Accuracy: 53.57%\n"
     ]
    }
   ],
   "source": [
    "loss,acc,y_pred = net.test(XVa,YVa,yVa)\n",
    "plot_confusion_matrix(yVa, y_pred, classes=np.arange(1,YVa.shape[0]+1),save_name='best') \n",
    "plt.show()\n",
    "print(\"The final Validation Accuracy: {}%\".format(round(acc*100,2)))"
   ]
  },
  {
   "cell_type": "code",
   "execution_count": 106,
   "metadata": {},
   "outputs": [
    {
     "name": "stdout",
     "output_type": "stream",
     "text": [
      "0.7564400444489342\n"
     ]
    }
   ],
   "source": [
    "lossTr,accTr,yTr_pred = net.test(XTr,YTr,yTr)\n",
    "print(accTr)"
   ]
  },
  {
   "cell_type": "code",
   "execution_count": 107,
   "metadata": {},
   "outputs": [
    {
     "name": "stdout",
     "output_type": "stream",
     "text": [
      "[1.         0.92857143 0.28571429 0.64285714 0.35714286 0.14285714\n",
      " 0.57142857 0.5        0.64285714 0.5        0.78571429 0.64285714\n",
      " 0.42857143 0.14285714 0.78571429 0.28571429 0.28571429 0.71428571]\n"
     ]
    }
   ],
   "source": [
    "cm = confusion_matrix(yVa, y_pred)\n",
    "class_prob = cm.diagonal()/np.sum(cm,axis=1)  \n",
    "print(class_prob)"
   ]
  },
  {
   "cell_type": "code",
   "execution_count": 16,
   "metadata": {},
   "outputs": [
    {
     "name": "stdout",
     "output_type": "stream",
     "text": [
      "Execution time:  18565.851701021194\n"
     ]
    }
   ],
   "source": [
    "nlen = int(XTr.shape[0]/d_char)\n",
    "# filter layer 1\n",
    "k1 = 5\n",
    "n1 = 20\n",
    "sig1 = np.sqrt(2./(10*k1))  # For the first layer where input is sparse d_char is set is 10\n",
    "# filter layer 2\n",
    "k2 = 3\n",
    "n2 = 50\n",
    "sig2 = np.sqrt(2./(n1*k2))\n",
    "# weights\n",
    "K = YTr.shape[0]\n",
    "fsize = n2*(nlen-k1-k2+2)\n",
    "sig3 = np.sqrt(2./fsize)\n",
    "\n",
    "model_paras = {\"eta\": 0.001,  # learning rate\n",
    "               \"n_batch\": 59,  # size of data batches within an epoch\n",
    "               \"rho\": 0.9,  # momentum term\n",
    "              }\n",
    "\n",
    "net_struc = {0:{'std':sig1,'filter':[d_char,k1,n1]}, # filter 1\n",
    "             1:{'std':sig2,'filter':[n1,k2,n2]},  # filter 2\n",
    "             2:{'std':sig3, 'weight':[K,fsize]}  # weights\n",
    "            } \n",
    "\n",
    "net = ConvNetwork(**model_paras)\n",
    "tic = time.time()\n",
    "net.train(net_struc,[XTr,XVa],[YTr,YVa],[yTr,yVa],d_char,n_epochs=3000,shuf=True,\n",
    "          imbalance=True,momentum=True,save_name='best')\n",
    "toc = time.time()\n",
    "print('Execution time: ',toc-tic)"
   ]
  },
  {
   "cell_type": "code",
   "execution_count": 41,
   "metadata": {},
   "outputs": [
    {
     "name": "stdout",
     "output_type": "stream",
     "text": [
      "Confusion matrix, without normalization\n",
      "[[14  0  0  0  0  0  0  0  0  0  0  0  0  0  0  0  0  0]\n",
      " [ 0 13  0  0  0  0  0  0  0  0  0  0  0  0  0  0  0  1]\n",
      " [ 1  0  5  1  1  0  2  0  0  1  0  0  2  1  0  0  0  0]\n",
      " [ 0  0  2  7  1  1  1  1  1  0  0  0  0  0  0  0  0  0]\n",
      " [ 0  0  0  1  6  2  0  0  2  0  0  1  0  0  0  2  0  0]\n",
      " [ 0  0  1  0  2  5  2  0  1  0  0  0  1  0  0  0  2  0]\n",
      " [ 1  0  0  1  1  0 10  0  1  0  0  0  0  0  0  0  0  0]\n",
      " [ 0  0  0  0  2  0  0 10  0  1  0  0  0  0  0  0  1  0]\n",
      " [ 0  0  1  0  0  1  1  0  8  0  0  0  0  0  0  3  0  0]\n",
      " [ 1  0  0  0  0  0  1  1  0  6  0  0  0  2  0  0  3  0]\n",
      " [ 0  1  0  0  0  1  0  0  0  0 12  0  0  0  0  0  0  0]\n",
      " [ 1  4  1  0  0  0  0  0  0  0  0  8  0  0  0  0  0  0]\n",
      " [ 0  0  3  0  1  0  0  0  0  0  0  0  8  0  2  0  0  0]\n",
      " [ 0  0  0  0  1  0  1  1  0  0  0  0  0  2  0  0  9  0]\n",
      " [ 0  1  0  0  0  1  1  0  0  0  0  0  0  0 11  0  0  0]\n",
      " [ 0  0  1  0  5  0  2  0  0  0  0  0  0  0  0  3  3  0]\n",
      " [ 0  0  0  0  1  0  0  2  0  1  1  0  0  3  1  0  5  0]\n",
      " [ 0  5  0  0  1  1  0  0  1  0  0  1  0  0  0  0  0  5]]\n"
     ]
    },
    {
     "data": {
      "image/png": "[encoded data removed]",
      "text/plain": [
       "<Figure size 432x288 with 2 Axes>"
      ]
     },
     "metadata": {
      "needs_background": "light"
     },
     "output_type": "display_data"
    },
    {
     "name": "stdout",
     "output_type": "stream",
     "text": [
      "The final Validation Accuracy: 54.76%\n"
     ]
    }
   ],
   "source": [
    "loss,acc,y_pred = net.test(XVa,YVa,yVa)\n",
    "plot_confusion_matrix(yVa, y_pred, classes=np.arange(1,YVa.shape[0]+1),save_name='best') \n",
    "plt.show()\n",
    "print(\"The final Validation Accuracy: {}%\".format(round(acc*100,2)))"
   ]
  },
  {
   "cell_type": "code",
   "execution_count": 42,
   "metadata": {},
   "outputs": [
    {
     "name": "stdout",
     "output_type": "stream",
     "text": [
      "1.9845778755245218\n"
     ]
    }
   ],
   "source": [
    "print(loss)"
   ]
  },
  {
   "cell_type": "code",
   "execution_count": 19,
   "metadata": {},
   "outputs": [],
   "source": [
    "lossTr,accTr,yTr_pred = net.test(XTr,YTr,yTr)"
   ]
  },
  {
   "cell_type": "code",
   "execution_count": 40,
   "metadata": {},
   "outputs": [
    {
     "name": "stdout",
     "output_type": "stream",
     "text": [
      "0.7428528134154965\n",
      "0.8562449158324085\n"
     ]
    }
   ],
   "source": [
    "print(accTr)\n",
    "print(lossTr)"
   ]
  },
  {
   "cell_type": "code",
   "execution_count": 44,
   "metadata": {},
   "outputs": [
    {
     "name": "stdout",
     "output_type": "stream",
     "text": [
      "[1.     0.9286 0.3571 0.5    0.4286 0.3571 0.7143 0.7143 0.5714 0.4286\n",
      " 0.8571 0.5714 0.5714 0.1429 0.7857 0.2143 0.3571 0.3571]\n"
     ]
    }
   ],
   "source": [
    "cm = confusion_matrix(yVa, y_pred)\n",
    "class_prob = cm.diagonal()/np.sum(cm,axis=1)  \n",
    "print(class_prob.round(4))"
   ]
  },
  {
   "cell_type": "code",
   "execution_count": 45,
   "metadata": {},
   "outputs": [
    {
     "name": "stdout",
     "output_type": "stream",
     "text": [
      "dict_values(['Arabic', 'Chinese', 'Czech', 'Dutch', 'English', 'French', 'German', 'Greek', 'Irish', 'Italian', 'Japanese', 'Korean', 'Polish', 'Portuguese', 'Russian', 'Scottish', 'Spanish', 'Vietnamese'])\n"
     ]
    }
   ],
   "source": [
    "print(category.values())"
   ]
  },
  {
   "cell_type": "markdown",
   "metadata": {},
   "source": [
    "### Test with new data"
   ]
  },
  {
   "cell_type": "code",
   "execution_count": 23,
   "metadata": {},
   "outputs": [
    {
     "name": "stdout",
     "output_type": "stream",
     "text": [
      "Nguyen: Vietnamese\n",
      "Herrera: Spanish\n",
      "Martinez: Spanish\n",
      "Bergstrom: English\n",
      "Batakis: Greek\n",
      "Fontbona: Italian\n"
     ]
    }
   ],
   "source": [
    "name_test = ['Nguyen','Herrera','Martinez','Bergstrom','Batakis','Fontbona']\n",
    "name_encode = namesToMatrix(total_char, name_test, nlen)\n",
    "X_,P,y_pred = net.forward(name_encode)\n",
    "for i,yi in enumerate(y_pred):\n",
    "    print(name_test[i]+\": \"+category[yi]) "
   ]
  },
  {
   "cell_type": "code",
   "execution_count": 33,
   "metadata": {
    "scrolled": true
   },
   "outputs": [
    {
     "data": {
      "image/png": "[encoded data removed]",
      "text/plain": [
       "<Figure size 432x288 with 1 Axes>"
      ]
     },
     "metadata": {
      "needs_background": "light"
     },
     "output_type": "display_data"
    }
   ],
   "source": [
    "df = pd.DataFrame(data=P, columns=name_test, index=list(category.values()))\n",
    "ax = df.plot.bar(width=0.8)\n",
    "ax.legend(loc='best')\n",
    "plt.tight_layout()\n",
    "plt.savefig('Figures/proba_test.pdf')"
   ]
  },
  {
   "cell_type": "code",
   "execution_count": 38,
   "metadata": {
    "scrolled": false
   },
   "outputs": [
    {
     "name": "stdout",
     "output_type": "stream",
     "text": [
      "                  Nguyen       Herrera      Martinez     Bergstrom  \\\n",
      "Arabic      1.755429e-06  2.935361e-09  1.103962e-14  1.517484e-13   \n",
      "Chinese     1.248380e-07  2.353268e-12  2.736419e-13  4.095259e-13   \n",
      "Czech       2.085217e-02  2.527341e-03  7.830945e-06  2.509641e-02   \n",
      "Dutch       1.450255e-02  1.549228e-03  1.830929e-06  5.618185e-05   \n",
      "English     4.312408e-02  1.441998e-03  6.285375e-06  6.603984e-01   \n",
      "French      1.233186e-02  4.406504e-05  3.524951e-05  2.216746e-03   \n",
      "German      8.490800e-02  5.443868e-03  3.511246e-05  2.939586e-01   \n",
      "Greek       1.373575e-04  7.943437e-08  2.299047e-09  6.665894e-06   \n",
      "Irish       6.915342e-03  2.448532e-05  6.913226e-08  5.308482e-05   \n",
      "Italian     1.002758e-05  5.933148e-02  4.303584e-03  5.937652e-06   \n",
      "Japanese    4.430237e-05  3.654550e-07  5.195473e-08  3.957482e-08   \n",
      "Korean      9.428184e-06  1.280309e-14  3.886511e-18  8.328527e-17   \n",
      "Polish      5.652116e-03  3.442742e-03  2.327683e-07  1.003469e-05   \n",
      "Portuguese  1.613348e-09  2.637562e-02  2.728391e-07  1.429410e-07   \n",
      "Russian     8.934925e-02  1.210893e-04  6.744447e-06  1.819025e-02   \n",
      "Scottish    1.018798e-02  2.196759e-05  8.895319e-08  1.083571e-06   \n",
      "Spanish     6.776809e-06  8.996757e-01  9.956026e-01  6.423511e-06   \n",
      "Vietnamese  7.119669e-01  2.405120e-19  6.652285e-19  9.049097e-19   \n",
      "\n",
      "                 Batakis      Fontbona  \n",
      "Arabic      8.682465e-04  1.267745e-09  \n",
      "Chinese     3.195545e-11  1.044664e-17  \n",
      "Czech       1.182259e-02  8.295815e-03  \n",
      "Dutch       1.387131e-03  2.439728e-04  \n",
      "English     5.461334e-04  2.295327e-03  \n",
      "French      4.444219e-08  3.256630e-05  \n",
      "German      7.023130e-06  5.585226e-03  \n",
      "Greek       9.744414e-01  4.661474e-05  \n",
      "Irish       2.677979e-09  2.353190e-05  \n",
      "Italian     1.955839e-07  8.812227e-01  \n",
      "Japanese    2.516131e-03  4.901186e-03  \n",
      "Korean      2.876879e-17  9.465274e-18  \n",
      "Polish      4.828730e-05  1.142154e-03  \n",
      "Portuguese  6.096890e-07  5.137021e-04  \n",
      "Russian     8.362179e-03  2.043457e-03  \n",
      "Scottish    3.056144e-12  2.183848e-06  \n",
      "Spanish     9.123937e-09  9.365152e-02  \n",
      "Vietnamese  1.650747e-19  5.633498e-19  \n"
     ]
    }
   ],
   "source": [
    "print(df)"
   ]
  },
  {
   "cell_type": "markdown",
   "metadata": {},
   "source": [
    "### Sparse matrix run slower than numpy and they are not the same"
   ]
  },
  {
   "cell_type": "code",
   "execution_count": 17,
   "metadata": {},
   "outputs": [
    {
     "name": "stdout",
     "output_type": "stream",
     "text": [
      "1.51 ms ± 5.46 µs per loop (mean ± std. dev. of 7 runs, 1000 loops each)\n",
      "590 µs ± 2.14 µs per loop (mean ± std. dev. of 7 runs, 1000 loops each)\n"
     ]
    }
   ],
   "source": [
    "%timeit x1 = makeMXMatrix_sparse(XTr[:,0],d_char,5,5)\n",
    "%timeit x2 = makeMXMatrix(XTr[:,0],d_char,5,5)"
   ]
  },
  {
   "cell_type": "code",
   "execution_count": 55,
   "metadata": {},
   "outputs": [
    {
     "name": "stdout",
     "output_type": "stream",
     "text": [
      "[0 1 2 3]\n",
      "Confusion matrix, without normalization\n",
      "[[1 0 1 0]\n",
      " [1 0 0 0]\n",
      " [0 1 0 0]\n",
      " [0 0 1 1]]\n"
     ]
    },
    {
     "data": {
      "text/plain": [
       "<matplotlib.axes._subplots.AxesSubplot at 0x1a270476a0>"
      ]
     },
     "execution_count": 55,
     "metadata": {},
     "output_type": "execute_result"
    },
    {
     "data": {
      "image/png": "[encoded data removed]",
      "text/plain": [
       "<Figure size 432x288 with 2 Axes>"
      ]
     },
     "metadata": {
      "needs_background": "light"
     },
     "output_type": "display_data"
    }
   ],
   "source": [
    "y_true = [0, 1, 0, 3, 2, 3]\n",
    "y_pred = [0, 0, 2, 3, 1, 2]\n",
    "print(unique_labels(y_true, y_pred))\n",
    "plot_confusion_matrix(y_true, y_pred, classes=np.arange(1,5), save_name='test')"
   ]
  },
  {
   "cell_type": "code",
   "execution_count": 216,
   "metadata": {},
   "outputs": [
    {
     "name": "stdout",
     "output_type": "stream",
     "text": [
      "[ 0  1  2  3  4  5  6  7  8  9 10 11 12 13 14 15 16 17]\n",
      "[1986  254  505  283 3654  263  710  189  218  695  977   80  125   60\n",
      " 9370   86  284   59]\n"
     ]
    }
   ],
   "source": [
    "lab_name, count_lab = np.unique(yTr, return_counts=True)\n",
    "print(lab_name)\n",
    "print(count_lab)"
   ]
  },
  {
   "cell_type": "code",
   "execution_count": 219,
   "metadata": {},
   "outputs": [
    {
     "name": "stdout",
     "output_type": "stream",
     "text": [
      "59\n",
      "9370\n"
     ]
    }
   ],
   "source": [
    "print(min(count_lab))\n",
    "print(max(count_lab))"
   ]
  },
  {
   "cell_type": "code",
   "execution_count": 221,
   "metadata": {},
   "outputs": [
    {
     "name": "stdout",
     "output_type": "stream",
     "text": [
      "28 19\n",
      "(532, 19798)\n"
     ]
    }
   ],
   "source": [
    "print(d_char, nlen)\n",
    "print(XTr.shape)"
   ]
  },
  {
   "cell_type": "code",
   "execution_count": null,
   "metadata": {},
   "outputs": [],
   "source": []
  }
 ],
 "metadata": {
  "kernelspec": {
   "display_name": "Python 3",
   "language": "python",
   "name": "python3"
  },
  "language_info": {
   "codemirror_mode": {
    "name": "ipython",
    "version": 3
   },
   "file_extension": ".py",
   "mimetype": "text/x-python",
   "name": "python",
   "nbconvert_exporter": "python",
   "pygments_lexer": "ipython3",
   "version": "3.7.1"
  }
 },
 "nbformat": 4,
 "nbformat_minor": 2
}
