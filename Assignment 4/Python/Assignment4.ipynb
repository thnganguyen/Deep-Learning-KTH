{
 "cells": [
  {
   "cell_type": "markdown",
   "metadata": {},
   "source": [
    "# Assignment 4 - Vanilla RNN"
   ]
  },
  {
   "cell_type": "code",
   "execution_count": 1,
   "metadata": {},
   "outputs": [
    {
     "name": "stdout",
     "output_type": "stream",
     "text": [
      "Automatically created module for IPython interactive environment\n"
     ]
    }
   ],
   "source": [
    "from __future__ import unicode_literals, print_function, division\n",
    "print(__doc__)\n",
    "\n",
    "import numpy as np\n",
    "import matplotlib.pyplot as plt\n",
    "import pandas as pd\n",
    "import seaborn as sns\n",
    "from sklearn.metrics import confusion_matrix\n",
    "from sklearn.utils.multiclass import unique_labels\n",
    "from scipy import sparse\n",
    "\n",
    "from io import open\n",
    "import unicodedata\n",
    "import string, time, random\n",
    "from itertools import count"
   ]
  },
  {
   "cell_type": "markdown",
   "metadata": {},
   "source": [
    "## Exercise 1: Read in the data"
   ]
  },
  {
   "cell_type": "code",
   "execution_count": 2,
   "metadata": {},
   "outputs": [],
   "source": [
    "book_fname = 'Data/goblet_book.txt'\n",
    "book_data = open(book_fname, encoding='utf-8').read()"
   ]
  },
  {
   "cell_type": "code",
   "execution_count": 3,
   "metadata": {},
   "outputs": [
    {
     "name": "stdout",
     "output_type": "stream",
     "text": [
      "1107542\n"
     ]
    }
   ],
   "source": [
    "print(len(book_data))"
   ]
  },
  {
   "cell_type": "code",
   "execution_count": 4,
   "metadata": {},
   "outputs": [],
   "source": [
    "book_chars = ''.join(sorted({l for word in book_data for l in word}))"
   ]
  },
  {
   "cell_type": "code",
   "execution_count": 15,
   "metadata": {},
   "outputs": [
    {
     "name": "stdout",
     "output_type": "stream",
     "text": [
      "80\n",
      "\t\n",
      " !\"'(),-./01234679:;?ABCDEFGHIJKLMNOPQRSTUVWXYZ^_abcdefghijklmnopqrstuvwxyz}ü•\n"
     ]
    }
   ],
   "source": [
    "print(len(book_chars))\n",
    "print(book_chars)"
   ]
  },
  {
   "cell_type": "code",
   "execution_count": 12,
   "metadata": {},
   "outputs": [
    {
     "name": "stdout",
     "output_type": "stream",
     "text": [
      "23\n"
     ]
    }
   ],
   "source": [
    "print(book_chars.find('A'))"
   ]
  },
  {
   "cell_type": "code",
   "execution_count": 9,
   "metadata": {},
   "outputs": [
    {
     "name": "stdout",
     "output_type": "stream",
     "text": [
      "{'\\t': 0, '\\n': 1, ' ': 2, '!': 3, '\"': 4, \"'\": 5, '(': 6, ')': 7, ',': 8, '-': 9, '.': 10, '/': 11, '0': 12, '1': 13, '2': 14, '3': 15, '4': 16, '6': 17, '7': 18, '9': 19, ':': 20, ';': 21, '?': 22, 'A': 23, 'B': 24, 'C': 25, 'D': 26, 'E': 27, 'F': 28, 'G': 29, 'H': 30, 'I': 31, 'J': 32, 'K': 33, 'L': 34, 'M': 35, 'N': 36, 'O': 37, 'P': 38, 'Q': 39, 'R': 40, 'S': 41, 'T': 42, 'U': 43, 'V': 44, 'W': 45, 'X': 46, 'Y': 47, 'Z': 48, '^': 49, '_': 50, 'a': 51, 'b': 52, 'c': 53, 'd': 54, 'e': 55, 'f': 56, 'g': 57, 'h': 58, 'i': 59, 'j': 60, 'k': 61, 'l': 62, 'm': 63, 'n': 64, 'o': 65, 'p': 66, 'q': 67, 'r': 68, 's': 69, 't': 70, 'u': 71, 'v': 72, 'w': 73, 'x': 74, 'y': 75, 'z': 76, '}': 77, 'ü': 78, '•': 79}\n"
     ]
    }
   ],
   "source": [
    "# Dictionary with each key is a character and value is its position in book_chars (1,80)\n",
    "char2int = dict(zip(book_chars, count(0)))\n",
    "print(char2int)"
   ]
  },
  {
   "cell_type": "code",
   "execution_count": 21,
   "metadata": {},
   "outputs": [
    {
     "name": "stdout",
     "output_type": "stream",
     "text": [
      "[37, 58, 52]\n"
     ]
    }
   ],
   "source": [
    "# Example of using char2int to encode a string\n",
    "text = 'Nga'\n",
    "indexes = [\n",
    "  letter_mapping[letter] for letter in text \n",
    "  if letter in char2int\n",
    "]\n",
    "print(indexes)"
   ]
  },
  {
   "cell_type": "code",
   "execution_count": 10,
   "metadata": {},
   "outputs": [
    {
     "name": "stdout",
     "output_type": "stream",
     "text": [
      "{0: '\\t', 1: '\\n', 2: ' ', 3: '!', 4: '\"', 5: \"'\", 6: '(', 7: ')', 8: ',', 9: '-', 10: '.', 11: '/', 12: '0', 13: '1', 14: '2', 15: '3', 16: '4', 17: '6', 18: '7', 19: '9', 20: ':', 21: ';', 22: '?', 23: 'A', 24: 'B', 25: 'C', 26: 'D', 27: 'E', 28: 'F', 29: 'G', 30: 'H', 31: 'I', 32: 'J', 33: 'K', 34: 'L', 35: 'M', 36: 'N', 37: 'O', 38: 'P', 39: 'Q', 40: 'R', 41: 'S', 42: 'T', 43: 'U', 44: 'V', 45: 'W', 46: 'X', 47: 'Y', 48: 'Z', 49: '^', 50: '_', 51: 'a', 52: 'b', 53: 'c', 54: 'd', 55: 'e', 56: 'f', 57: 'g', 58: 'h', 59: 'i', 60: 'j', 61: 'k', 62: 'l', 63: 'm', 64: 'n', 65: 'o', 66: 'p', 67: 'q', 68: 'r', 69: 's', 70: 't', 71: 'u', 72: 'v', 73: 'w', 74: 'x', 75: 'y', 76: 'z', 77: '}', 78: 'ü', 79: '•'}\n"
     ]
    }
   ],
   "source": [
    "# Dictionary with each key is a number in (1,80) and value is corresponding character\n",
    "int2char = {v: k for k, v in char2int.items()}\n",
    "print(int2char)"
   ]
  },
  {
   "cell_type": "code",
   "execution_count": 26,
   "metadata": {},
   "outputs": [
    {
     "name": "stdout",
     "output_type": "stream",
     "text": [
      "data has 1107542 characters, 80 unique.\n"
     ]
    }
   ],
   "source": [
    "# Another way to read in data\n",
    "data = open(book_fname, 'r').read() # should be simple plain text file\n",
    "chars = list(set(data))\n",
    "data_size, vocab_size = len(data), len(chars)\n",
    "print('data has %d characters, %d unique.' % (data_size, vocab_size))\n",
    "char_to_ix = { ch:i for i,ch in enumerate(chars) }\n",
    "ix_to_char = { i:ch for i,ch in enumerate(chars) }\n",
    "print(chars)"
   ]
  },
  {
   "cell_type": "code",
   "execution_count": 5,
   "metadata": {},
   "outputs": [],
   "source": [
    "def one_hot_matrix(chars, vocab_size):\n",
    "    n = len(chars)\n",
    "    x_one_hot = np.zeros((vocab_size,n))    \n",
    "    x_one_hot[[char2int[ch] for ch in chars], range(n)] = 1\n",
    "    return x_one_hot\n",
    "\n",
    "def plotResults(x,y,name='loss',save_name=None):\n",
    "    fig = plt.figure()\n",
    "    plt.plot(x,y)\n",
    "    plt.xlabel('n_update')\n",
    "    plt.ylabel(name)\n",
    "    if save_name is not None:\n",
    "        fig.savefig('Figures/'+name+'_'+save_name+'.pdf')\n",
    "    plt.show()"
   ]
  },
  {
   "cell_type": "markdown",
   "metadata": {},
   "source": [
    "## Exercise 2: Set hyper-parameters and initialize the RNN’s parameters"
   ]
  },
  {
   "cell_type": "code",
   "execution_count": 6,
   "metadata": {},
   "outputs": [],
   "source": [
    "class RNN(object):\n",
    "    \"\"\"\n",
    "    A Vanilla Recurrent neural network.\n",
    "    \"\"\"\n",
    "\n",
    "    def __init__(self, vocab_size=80 ,hidden_dim=100, \n",
    "                 weight_scale=0.01, dtype=np.float32,):\n",
    "        \"\"\"\n",
    "        Initialize a new network.\n",
    "\n",
    "        Inputs:\n",
    "        - vocab_size: the total letters of the input\n",
    "        - hidden_dim: Number of units to use in hidden layer\n",
    "        - weight_scale: Scalar giving standard deviation for random initialization\n",
    "          of weights.\n",
    "        - dtype: numpy datatype to use for computation.\n",
    "        \"\"\"\n",
    "        self.h0 = np.zeros((hidden_dim , 1))\n",
    "        \n",
    "        self.params = {}\n",
    "        self.dtype = dtype\n",
    "        \n",
    "        self.vocab_size = vocab_size\n",
    "        self.hidden_dim = hidden_dim\n",
    "        self.weight_scale = weight_scale\n",
    "                      \n",
    "        self.init_sets()\n",
    "    \n",
    "    \n",
    "    def init_sets(self):\n",
    "        \"\"\"\n",
    "        Initialize model parameters\n",
    "        \"\"\"\n",
    "        # The biases\n",
    "        self.params['b'] = np.zeros((self.hidden_dim,1))  # m x 1\n",
    "        self.params['c'] = np.zeros((self.vocab_size,1))  # K x 1\n",
    "           \n",
    "        # The weights\n",
    "        self.params['U'] = self.weight_scale*np.random.randn(self.hidden_dim,self.vocab_size)  # m x K\n",
    "        self.params['W'] = self.weight_scale*np.random.randn(self.hidden_dim,self.hidden_dim)  # m x m\n",
    "        self.params['V'] = self.weight_scale*np.random.randn(self.vocab_size,self.hidden_dim)  # K x m\n",
    "\n",
    "        for k, v in self.params.items():\n",
    "            self.params[k] = v.astype(self.dtype)\n",
    "        \n",
    "    \n",
    "    ## Exercise 3: Synthesize text from your randomly initialized RNN\n",
    "    def sample(self, x0, n):\n",
    "        \"\"\"\n",
    "        - h0: m x 1 vector of hidden state at time 0 \n",
    "        - x0: K x 1 first input vector\n",
    "        - n: the length of the sequence to generate\n",
    "        \"\"\"\n",
    "        U, W, V = self.params['U'], self.params['W'], self.params['V']\n",
    "        b, c = self.params['b'], self.params['c']\n",
    "        \n",
    "        xnext = np.zeros((len(x0),n))\n",
    "        h, x = self.h0.copy(), x0\n",
    "        for i in range(n):\n",
    "            h = np.tanh(np.dot(W,h) + np.dot(U,x) + b)  # m x 1\n",
    "            s = np.dot(V,h) + c  # K x 1\n",
    "            p = np.exp(s-np.max(s))/np.sum(np.exp(s-np.max(s)))  # K x 1\n",
    "            # find next x\n",
    "            au = np.random.rand()\n",
    "            ix = np.argwhere(np.cumsum(p)>au)[0]\n",
    "            xnext[ix,i] = 1\n",
    "            x = xnext[:,[i]]\n",
    "        \n",
    "        return xnext\n",
    "\n",
    "    def loss(self, X, Y, mode='train'):\n",
    "        \"\"\"\n",
    "        Evaluate loss and gradient for recurrent neural network.\n",
    "        - y=None: for testing\n",
    "        - h0 is mx1 array of initial hidden state\n",
    "        \"\"\"\n",
    "        X = X.astype(self.dtype)\n",
    "        Y = Y.astype(self.dtype)\n",
    "\n",
    "        U, W, V = self.params['U'], self.params['W'], self.params['V']\n",
    "        b, c = self.params['b'], self.params['c']\n",
    "        \n",
    "        _,N = X.shape\n",
    "        \n",
    "        # Forward pass\n",
    "        ht, st, pt = {}, {}, {}\n",
    "        ht[-1] = self.h0.copy()\n",
    "        \n",
    "        loss = 0\n",
    "        for t in range(N):\n",
    "            ht[t] = np.tanh(np.dot(W,ht[t-1]) + np.dot(U,X[:,[t]]) + b)  # m x 1\n",
    "            st[t] = np.dot(V,ht[t]) + c  # K x 1\n",
    "            pt[t] = np.exp(st[t]-np.max(st[t]))/np.sum(np.exp(st[t]-np.max(st[t])))\n",
    "            loss += -np.log(np.dot(Y[:,[t]].T,pt[t]))\n",
    "            \n",
    "        if mode=='test':\n",
    "            return loss\n",
    "        \n",
    "        # Backward pass\n",
    "        grads = {}\n",
    "        dU, dW, dV = np.zeros_like(U), np.zeros_like(W), np.zeros_like(V)\n",
    "        db, dc = np.zeros_like(b), np.zeros_like(c)\n",
    "        dh_next = np.zeros_like(self.h0)\n",
    "        for t in reversed(range(N)):\n",
    "            dst = pt[t] - Y[:,[t]]\n",
    "            dV += np.dot(dst,ht[t].T)\n",
    "            dc = dc + dst\n",
    "            dht = np.dot(V.T,dst) + dh_next\n",
    "            dat = dht*(1-ht[t]*ht[t])  # m x 1\n",
    "            db = db + dat\n",
    "            dU += np.dot(dat,X[:,[t]].T)  # m x K\n",
    "            dW += np.dot(dat,ht[t-1].T)  # m x m\n",
    "            dh_next = np.dot(W.T,dat)\n",
    "               \n",
    "        grads['U'], grads['W'], grads['V'] = dU, dW, dV\n",
    "        grads['b'], grads['c'] = db, dc\n",
    "        \n",
    "        for k,v in grads.items():\n",
    "            np.clip(v,-5,5,out=v)\n",
    "        \n",
    "        self.h0 = ht[N-1].copy()\n",
    "        return loss, grads"
   ]
  },
  {
   "cell_type": "code",
   "execution_count": 8,
   "metadata": {},
   "outputs": [],
   "source": [
    "def checkGradients(X,Y,h=1e-4):\n",
    "    eps = 1e-30\n",
    "    err = 1e-6\n",
    "    \n",
    "    net = RNN(hidden_dim=5)\n",
    "    _,grads_a = net.loss(X,Y)\n",
    "    \n",
    "    params = net.params\n",
    "    grads_n = {}    \n",
    "    for key,param in params.items():\n",
    "        grads_n[key] = np.zeros_like(param)\n",
    "        total_error = 0\n",
    "        for i in range(param.size):\n",
    "            param.flat[i] += h\n",
    "            l1 = net.loss(X,Y,mode='test')\n",
    "            param.flat[i] -= 2*h\n",
    "            l2 = net.loss(X,Y,mode='test')\n",
    "            param.flat[i] += h\n",
    "            grads_n[key].flat[i] = (l1-l2)/(2*h)\n",
    "        # Relative error\n",
    "        error = np.abs(grads_a[key]-grads_n[key])/np.maximum(eps,np.abs(grads_a[key])+np.abs(grads_n[key]))\n",
    "        total_error += np.sum(error>err)\n",
    "        max_error = np.max(error)\n",
    "        print('The number of errors (relative error > 1e-6) of {}: {}'.format(key, total_error))\n",
    "        print('The maximum of relative error of {}: {}'.format(key, max_error))   "
   ]
  },
  {
   "cell_type": "markdown",
   "metadata": {},
   "source": [
    "## Exercise 3: Synthesize text from your randomly initialized RNN"
   ]
  },
  {
   "cell_type": "code",
   "execution_count": 93,
   "metadata": {},
   "outputs": [],
   "source": [
    "# Create input\n",
    "x0 = np.zeros((80,1))\n",
    "x0[char2int['N']] = 1\n",
    "h0 = np.zeros((100,1))"
   ]
  },
  {
   "cell_type": "code",
   "execution_count": 94,
   "metadata": {},
   "outputs": [],
   "source": [
    "net = RNN()\n",
    "xnext = net.sample(x0,200)"
   ]
  },
  {
   "cell_type": "code",
   "execution_count": 81,
   "metadata": {},
   "outputs": [
    {
     "name": "stdout",
     "output_type": "stream",
     "text": [
      "(80, 200)\n"
     ]
    }
   ],
   "source": [
    "print(xnext.shape)"
   ]
  },
  {
   "cell_type": "code",
   "execution_count": 95,
   "metadata": {},
   "outputs": [
    {
     "name": "stdout",
     "output_type": "stream",
     "text": [
      "[68 18 24 50  5 13 13  0 39 63 42  6 38 28 49 68 35 69 58 45 22 31 46 25\n",
      " 20 42  1 18 54 74 16 39 73 29 40  6 21 18  1 19 49 53 74 60 43 56 59 31\n",
      " 14 53 37 43 69 29 42 36 68 79  2  3 16  9 23  0 40 24 44  5 75 27 53 62\n",
      " 32 45 26 74 38 32 22 20  2 53 38  1 71 63  3 46 41 63  9 61 73  8 79 50\n",
      " 27 52 78 57 12  3 49 35 35 15 57 66 41 14 39 37 17 23 25 58 48 55 36 42\n",
      " 56 54  0 54 61 78 66 17 65 67 36 34 27  7 22 43 32 53 23 38 24 30  7 58\n",
      " 53 77 10 33 14 36 38 68 17 35 60  9  0 54 27  4 74 51 65 68 38 57 11 24\n",
      " 31  9 66  5 51 74 15 37 71 49 46 45 23 53 76 33 13 64 54 52 17 61 23 52\n",
      " 52 72 74 10 49  1 11 43]\n",
      "r7B_'11\tQmT(PF^rMshW?IXC:T\n",
      "7dx4QwGR(;7\n",
      "9^cxjUfiI2cOUsGTNr• !4-A\tRBV'yEclJWDxPJ?: cP\n",
      "um!XSm-kw,•_Ebüg0!^MM3gpS2QO6AChZeNTfd\tdküp6oqNLE)?UJcAPBH)hc}.K2NPr6Mj-\tdE\"xaorPg/BI-p'ax3Ou^XWAczK1ndb6kAbbvx.^\n",
      "/U\n"
     ]
    }
   ],
   "source": [
    "print(np.argmax(xnext, axis=0))\n",
    "text = ''.join(int2char[ix] for ix in np.argmax(xnext, axis=0))\n",
    "print(text)"
   ]
  },
  {
   "cell_type": "markdown",
   "metadata": {},
   "source": [
    "## Exercise 4: Implement the forward & backward pass of back-prop"
   ]
  },
  {
   "cell_type": "code",
   "execution_count": 132,
   "metadata": {},
   "outputs": [],
   "source": [
    "X_chars = book_data[:25]\n",
    "Y_chars = book_data[1:26]"
   ]
  },
  {
   "cell_type": "code",
   "execution_count": 133,
   "metadata": {},
   "outputs": [
    {
     "name": "stdout",
     "output_type": "stream",
     "text": [
      "HARRY POTTER AND THE GOBL\n",
      "ARRY POTTER AND THE GOBLE\n"
     ]
    }
   ],
   "source": [
    "print(X_chars)\n",
    "print(Y_chars)"
   ]
  },
  {
   "cell_type": "code",
   "execution_count": 134,
   "metadata": {},
   "outputs": [],
   "source": [
    "X = one_hot_matrix(X_chars)\n",
    "Y = one_hot_matrix(Y_chars)"
   ]
  },
  {
   "cell_type": "code",
   "execution_count": 135,
   "metadata": {},
   "outputs": [
    {
     "name": "stdout",
     "output_type": "stream",
     "text": [
      "(80, 25) (80, 25)\n"
     ]
    }
   ],
   "source": [
    "print(X.shape, Y.shape)"
   ]
  },
  {
   "cell_type": "code",
   "execution_count": 152,
   "metadata": {},
   "outputs": [
    {
     "name": "stdout",
     "output_type": "stream",
     "text": [
      "The number of errors (relative error > 1e-6) of b: 0\n",
      "The maximum of relative error of b: 2.1481670643567495e-08\n",
      "The number of errors (relative error > 1e-6) of c: 0\n",
      "The maximum of relative error of c: 2.8953546415392706e-08\n",
      "The number of errors (relative error > 1e-6) of U: 0\n",
      "The maximum of relative error of U: 8.838543408273836e-07\n",
      "The number of errors (relative error > 1e-6) of W: 7\n",
      "The maximum of relative error of W: 2.490667611709796e-05\n",
      "The number of errors (relative error > 1e-6) of V: 15\n",
      "The maximum of relative error of V: 1.710842866486928e-06\n"
     ]
    }
   ],
   "source": [
    "h0 = np.zeros((5,1))\n",
    "checkGradients(X,Y,h0,h=1e-4)"
   ]
  },
  {
   "cell_type": "markdown",
   "metadata": {},
   "source": [
    "## Exercise 5: Train RNN using AdaGrad"
   ]
  },
  {
   "cell_type": "code",
   "execution_count": 7,
   "metadata": {},
   "outputs": [],
   "source": [
    "class Model(object):\n",
    "    \n",
    "    def __init__(self, model, data, **kwargs):\n",
    "        \n",
    "        self.model = model\n",
    "        self.data = data\n",
    "\n",
    "        # Unpack keyword arguments\n",
    "        self.optimizer = kwargs.pop('optimizer', 'adagrad')\n",
    "        self.optim_config = kwargs.pop('optim_config', {})\n",
    "        self.seq_length = kwargs.pop('seq_length', 25)\n",
    "        self.num_epochs = kwargs.pop('num_epochs', 10)\n",
    "\n",
    "        self.print_every = kwargs.pop('print_every', 100)\n",
    "        self.verbose = kwargs.pop('verbose', True)\n",
    "\n",
    "        # Throw an error if there are extra keyword arguments\n",
    "        if len(kwargs) > 0:\n",
    "            extra = ', '.join('\"%s\"' % k for k in list(kwargs.keys()))\n",
    "            raise ValueError('Unrecognized arguments %s' % extra)\n",
    "\n",
    "        self._reset()\n",
    "    \n",
    "    \n",
    "    def _reset(self):\n",
    "        \"\"\"\n",
    "        Set up some book-keeping variables for optimization. Don't call this\n",
    "        manually.\n",
    "        \"\"\"\n",
    "        # Set up some variables for book-keeping\n",
    "        self.best_loss = 0\n",
    "        self.best_params = {}\n",
    "        self.loss_history = []\n",
    "        self.smooth_loss_history = []\n",
    "        self.train_acc_history = []\n",
    "        self.val_acc_history = []\n",
    "\n",
    "        # Make a deep copy of the optim_config for each parameter\n",
    "        self.optim_configs = {}\n",
    "        for p in self.model.params:\n",
    "            d = {k: v for k, v in self.optim_config.items()}\n",
    "            self.optim_configs[p] = d\n",
    "    \n",
    "    \n",
    "    def train(self):\n",
    "        \"\"\"\n",
    "        Run optimization to train the model.\n",
    "        \"\"\"\n",
    "        num_train = len(self.data)\n",
    "        hidden_dim = self.model.hidden_dim\n",
    "        vocab_size = self.model.vocab_size\n",
    "        seq_length = self.seq_length\n",
    "        iterations_per_epoch = max(num_train // seq_length, 1)\n",
    "        num_iterations = self.num_epochs * iterations_per_epoch\n",
    "        \n",
    "        smooth_loss = -np.log(1.0/vocab_size)*seq_length # loss at iteration 0\n",
    "        self.best_loss = smooth_loss\n",
    "        pos = 0\n",
    "        for t in range(num_iterations):          \n",
    "            if pos+seq_length+1>=len(self.data) or t==0:\n",
    "                self.model.h0 = np.zeros((hidden_dim,1)) # reset h0\n",
    "                pos = 0\n",
    "            # preparing data to train\n",
    "            X_chars = self.data[pos:pos+seq_length]\n",
    "            Y_chars = self.data[pos+1:pos+seq_length+1]\n",
    "            X = one_hot_matrix(X_chars, vocab_size)\n",
    "            Y = one_hot_matrix(Y_chars, vocab_size)\n",
    "            # Print sample from the model now and then\n",
    "            if self.verbose and t % self.print_every == 0: \n",
    "                sample_ix = self.model.sample(X[:,[0]], 200)\n",
    "                txt = ''.join(int2char[ix] for ix in np.argmax(sample_ix, axis=0))\n",
    "                print('----\\n %s \\n----' % (txt, ))\n",
    "            \n",
    "            # Compute loss and gradient\n",
    "            loss, grads = self.model.loss(X, Y)\n",
    "            self.loss_history.append(loss)\n",
    "            smooth_loss = smooth_loss * 0.999 + loss * 0.001 \n",
    "            self.smooth_loss_history.append(smooth_loss)\n",
    "            # Print training smooth_loss and sample from the model now and then\n",
    "            if self.verbose and t % self.print_every == 0: \n",
    "                print('(Iteration %d / %d) loss: %f' % (\n",
    "                       t + 1, num_iterations, smooth_loss))\n",
    "            \n",
    "            # Perform a parameter update\n",
    "            for p, w in self.model.params.items():\n",
    "                dw = grads[p]\n",
    "                config = self.optim_configs[p]\n",
    "                next_w, next_config = globals()[self.optimizer](w, dw, config)\n",
    "                self.model.params[p] = next_w\n",
    "                self.optim_configs[p] = next_config\n",
    "                \n",
    "            pos += seq_length\n",
    "            \n",
    "            # Check train and val accuracy on the first iteration, the last\n",
    "            # iteration, and at the end of each epoch.\n",
    "            epoch_end = (t + 1) % iterations_per_epoch == 0\n",
    "            first_it = (t == 0)\n",
    "            last_it = (t == num_iterations - 1)\n",
    "            if first_it or last_it or epoch_end:\n",
    "                # Keep track of the best model\n",
    "                if smooth_loss < self.best_loss:\n",
    "                    self.best_loss = smooth_loss\n",
    "                    self.best_params = {}\n",
    "                    for k, v in self.model.params.items():\n",
    "                        self.best_params[k] = v.copy()\n",
    "\n",
    "        # At the end of training swap the best params into the model\n",
    "        self.model.params = self.best_params\n",
    "\n",
    "\n",
    "\n",
    "def adagrad(w, dw, config=None):\n",
    "    \"\"\"\n",
    "    Performs a variant of stochastic gradient descent, AdaGrad.\n",
    "\n",
    "    config format:\n",
    "    - learning_rate: Scalar learning rate.\n",
    "    \"\"\"\n",
    "    if config is None: config = {}\n",
    "    config.setdefault('learning_rate', 0.1)\n",
    "    config.setdefault('epsilon', 1e-8)\n",
    "    config.setdefault('m', np.zeros_like(w))\n",
    " \n",
    "    config['m'] += dw**2\n",
    "    next_w = w - config['learning_rate']*dw/(np.sqrt(config['m'])+config['epsilon'])\n",
    "\n",
    "    return next_w, config"
   ]
  },
  {
   "cell_type": "code",
   "execution_count": 11,
   "metadata": {
    "scrolled": true
   },
   "outputs": [
    {
     "name": "stdout",
     "output_type": "stream",
     "text": [
      "----\n",
      " x1F4tMNVRA;hQdcf\n",
      "us;2eQev\"?eyq_R^}XurFOH?;OKq 1j1H\n",
      "•XjwW}(msV}vwpBEq•'d4s\"o.0rRMWhzrEH^ W•üTlCahBuXu,,RF,TqO;wN\n",
      "EetOCAiHJP4L0xdPWBaf_J^SR;ic.EC};fPh\"(Rz}^Y4?pq.Vd6L4e'zry\tJXWFP7kZd2SmvjbcpCK/yteZ'Q!X• \n",
      "----\n",
      "(Iteration 1 / 443010) loss: 109.550669\n",
      "----\n",
      " unkeallgem pullerry gore harol it.\n",
      " Ek ofmooniyh. thas at withcee of thhe hus  thly wrraplicht a mis,\"?\"  Amen ofed werim beinge gtard ealle warcret ofly hise carire; he Dugoferk do mames besandny, pi \n",
      "----\n",
      "(Iteration 10001 / 443010) loss: 52.856775\n",
      "----\n",
      " egt, a conke S heon, in the gone himain it us the ters fored at ham, burht urnthouse?\"  er. Caiced achr.  Thearing awing.  Harry a and thead hingep let-werdwing it Ha rooms thick upporent anf, youp wh \n",
      "----\n",
      "(Iteration 20001 / 443010) loss: 49.432265\n",
      "----\n",
      " ese. . . perbious to com sayed orming a axtore hom pidly anne ewends expice of Hermies - rowor had agor ach as flilce thar on,\" roses. . . . . . Wowen steaked, plopberdre all to lote con list caure eS \n",
      "----\n",
      "(Iteration 30001 / 443010) loss: 48.232226\n",
      "----\n",
      " rough elir blofle trounghir; down waststorep, heared racking the frithald the rooked and but, was ow, agove ratwelr thed. Vevingung becend been the nouverdest his wand, the gileded Beinented. . . -\"\n",
      "K \n",
      "----\n",
      "(Iteration 40001 / 443010) loss: 46.902468\n",
      "----\n",
      "  mealirs briclunse so here de, and looked that exartede's sovantation?  pouth where haved hat net, and comios, 'soad on!\"\n",
      "\"Ye albuing and Deestely,\" she thes are to mentth'r yes of forand regcher of t \n",
      "----\n",
      "(Iteration 50001 / 443010) loss: 47.932958\n",
      "----\n",
      " pned ho deming in ithors ding notep-ing rofl wiserte,\" stowl ingwaned and hair fors, what.\n",
      "\"Then't Harry. Wanting.\n",
      "\"Hermicaly.  \"Yougen butching As. I?  And tere, where his soudso.  Nene face, an con, \n",
      "----\n",
      "(Iteration 60001 / 443010) loss: 46.441848\n",
      "----\n",
      " wcalk sood gain Ron bawte had by they whims and fonery.  \"Helly thas of the got earrer.  The ay seeds, he Porked yind. Hermione his stycind.  evind wes agrithass weting to you dingiclas Harry begher,  \n",
      "----\n",
      "(Iteration 70001 / 443010) loss: 46.166608\n",
      "----\n",
      " y had Dumwing tarkingwtnainiun hin indore, illy mutcer said! boo mumped at Whasal trims abvee look bewayshar yint arougw and hearn for to the lestrysingrayen.  \"\"There the save bothy mowely, thet unde \n",
      "----\n",
      "(Iteration 80001 / 443010) loss: 44.358209\n",
      "----\n",
      " nd Hary or,\" said a lote por muvhering ontir askuly Crece Vookuse hisist, dold a wicchmis arous, Flissed to said, ent to pight dad were of abore on then lew him of him as woull.  The rofning beser wiz \n",
      "----\n",
      "(Iteration 90001 / 443010) loss: 45.154974\n",
      "----\n",
      "  lingonc And the Ron I mumpliling, welll gat agould I wasked flal nome you, it on it sprented-in ancined thoulgent his at of I we wizersten this mest corsing a said Harry vouttonre,\" down, and at \"I s \n",
      "----\n",
      "(Iteration 100001 / 443010) loss: 46.086686\n",
      "----\n",
      " n from the toicking, wash the ouh, he her thehed gast about to you tring how - in the drekenden tobosherly to the alds, and hum say Ce. he car Chand two.\n",
      "There aworet ereless...\n",
      " He rookle come noof,  \n",
      "----\n",
      "(Iteration 110001 / 443010) loss: 44.264144\n",
      "----\n",
      " e walf yin allnes, budn't come alin, \"He quat to Chowg in, wely an clsereder fanoald From comespering he aflled at juat in sureply, butsear-finge was efoundss ant. \"ANloy, whomemed the rywimpin onsema \n",
      "----\n",
      "(Iteration 120001 / 443010) loss: 44.556745\n",
      "----\n",
      " eadly eyen you lloudd and squin as he low, was to might.\n",
      "Nob it with the sigher every a tan could Ml. Crouch wind clould in it vet'er?\"\n",
      "He vorve.  You!\"\n",
      "\"Non then tey mors.\"\n",
      "\"You, mols!\"  ceat of Dhat \n",
      "----\n",
      "(Iteration 130001 / 443010) loss: 43.338778\n",
      "----\n",
      " e Indomocied though he nit on I the sald whith and Mlyisheranl.\n",
      "\"I'ls teing and snreace the grinking of as their leged and hatains is on with they and manber what neted they were simeniag fed - meven  \n",
      "----\n",
      "(Iteration 140001 / 443010) loss: 46.591395\n",
      "----\n",
      " ing to sour anate doon uneter.\n",
      "\n",
      "\"How're amore as, \"I hare but call of looking reare.  \"Bow Hodrofting,\" sarry.  flinn beglaxite.  Bairy?  \"I had not thatches.\n",
      "\"Whe back, inced it have atte just to ceo \n",
      "----\n",
      "(Iteration 150001 / 443010) loss: 43.758281\n",
      "----\n",
      " sall to Henry morname Hwroul!\" h'rnober feople.  So Jurge quitime Beg,\" she ?\" Whone looky was leek Greathale indo thook he?\"\n",
      "Hanriet it dalked, froget hen' arn and if coortre. \"What?\" Darre, the him  \n",
      "----\n",
      "(Iteration 160001 / 443010) loss: 44.169775\n",
      "----\n",
      " thew the Leggwing tung, \"ento to Mader leen was out at exaidonl, apard,\" sauffwere off?\"\n",
      "He corresert Tow the stand to the want there.  Plidgasblaided,\" Hermiel - Darn's of the two had glalces, strest \n",
      "----\n",
      "(Iteration 170001 / 443010) loss: 43.133690\n",
      "----\n",
      " urese by toblen geht, and Vedis which pot Dude; AS loud, . \"Arsaire an Aglind Voldemort yousthing.  Moody, westock Meds.  Whain ender, stimpering that't in ever?\n",
      "Harry felttly, tha wall whour colltsio \n",
      "----\n",
      "(Iteration 180001 / 443010) loss: 44.157511\n",
      "----\n",
      " . . You'rly with theppele said My. Dudped didn a oven of prefoin\n",
      "\"Ermonaid peudainly filfougnticus.\"\n",
      "\"So the mat's you's thoughace over and ligen so Harry you painofused to he hey smucul wrops anjugni \n",
      "----\n",
      "(Iteration 190001 / 443010) loss: 44.447788\n",
      "----\n",
      "  dook pist.\"\n",
      "Conficals goting into thin'y were in-neire was?\"\n",
      "He him.\"\n",
      "\"A telte breins's squilt and styeted jome of they wouch, ame to wordented of Hagrad, but arovedry, shar out now Fthing wound owe' \n",
      "----\n",
      "(Iteration 200001 / 443010) loss: 43.182363\n",
      "----\n",
      " are tharo-dear, Rons the riffin't Renarcered toble I been of not are Harery?\"\" Shating at they lange've hey, hers thy mast aloa he hime daybeds fort, the cable you, bus the hadkior, and the protely.   \n",
      "----\n",
      "(Iteration 210001 / 443010) loss: 43.188153\n",
      "----\n",
      " cklabal on thes as have bote dagtive away my the beeps barts, tee a room.  Hhrreever, mut wizard busong tell.  Whrekens . . .\"\n",
      "\"Oh a did dease eyes fredombley is back odent at Harry to meed to he outo \n",
      "----\n",
      "(Iteration 220001 / 443010) loss: 41.988681\n",
      "----\n",
      " jerou-ning thoked sin'very -\" cewnon, a thar were with the Harry's to Ont Croomatthed, grow.\"\n",
      "\"Pyoited nors.  Fllowly not ever you harought you faoo. \"Ar on the mughty lincc, splanamany the iverber've \n",
      "----\n",
      "(Iteration 230001 / 443010) loss: 42.639044\n",
      "----\n",
      " re at his handud as grubre.  Andery ackmeing betall the waardertixilong cast would of they the touldn' \"Professabley, ruck of the bent, yours. . . the staped erpieterater tardowerer ustind - Sumbledro \n",
      "----\n",
      "(Iteration 240001 / 443010) loss: 43.213628\n",
      "----\n",
      " ouised - had not the emple lucking Manisaldent ?\" Inte, stind he sutrapill romiching Snape!\" who looking it tind.\n",
      "\"Row, he about you bade grish of yourthing to mats at cast said dent around.\n",
      "It on. .. \n",
      "----\n",
      "(Iteration 250001 / 443010) loss: 43.923834\n",
      "----\n",
      " about he?  Thoughtahed crusking by was Lorried the oppritely fllapion aily did to about Harry's as\"  ghangly frees, out liope incwremel Werms on thong it how.  Nom, broulled ride cong ut  The Dinking  \n",
      "----\n",
      "(Iteration 260001 / 443010) loss: 41.900600\n",
      "----\n",
      " s all tlouds was sacting gizas.\n",
      "\"Whace - was puden the stytcelvel? that the supirt, ain ees.  He hen wimned to she noom and Verters,\" hae pasting, as beheardpeanon of the Hoom to the it?\" \"Wemtory.\n",
      "Ka \n",
      "----\n",
      "(Iteration 270001 / 443010) loss: 43.241892\n",
      "----\n",
      " !\"\n",
      "Thit watte, his fering acame theres zowadney out dis ortond intaid teely disher, in and Cop anysedy of to joup caulding.\" saivy?\"\n",
      "\"What satutuon a wan for Peted Wifffiss good himed she Mading Rong, \n",
      "----\n",
      "(Iteration 280001 / 443010) loss: 43.754374\n",
      "----\n",
      "  his peanece?\n",
      "In hol sar sime about were pallfutce moor me fore?  The had fact.\n",
      "Beinding, just by Brobse face, Harry s- he to dever she clidgiggniol ut of the saived ant's a didn't hims,\" sneazloy wer \n",
      "----\n",
      "(Iteration 290001 / 443010) loss: 42.410409\n",
      "----\n",
      " and he Donath and Coggand reboaked sundening to enters mo, re fach had it letst of blats,\" said Hoghar hand on had know Eonder to done fomening going - he rying.\n",
      "\"I'm crobb, angist betaid of thel.\"\n",
      "\"H \n",
      "----\n",
      "(Iteration 300001 / 443010) loss: 41.126622\n",
      "----\n",
      " aven' fut to hearf'm by nother?\"  said Gely it.  Then sodd Owo rugg him dixidal where her!\"\n",
      "\"Harry.  \"Iim as Tome of to the was Dor, 'voug, any and beght that Eather, he, about trowat!\"\n",
      "\"What.\n",
      "\"The st \n",
      "----\n",
      "(Iteration 310001 / 443010) loss: 41.238966\n"
     ]
    },
    {
     "name": "stdout",
     "output_type": "stream",
     "text": [
      "----\n",
      " ed, dray thim knastome the to jooch Cedsimisins.  Fher?\"\n",
      "\"Chaired of the could at by the pleicke theres, doorely, whark been and crosppedning to that it.  she and sheat the your een should Snakeyen. H \n",
      "----\n",
      "(Iteration 320001 / 443010) loss: 42.402553\n",
      "----\n",
      " ic a the stantely, as by ressicinged, plawed to Hagik to, spah his welting to wink, the door down furies and you'le wain.  Stours.  Dum!\" said Rou novery.\n",
      "\"Loomponce fore them - Olly rowe.  \"I lealg a \n",
      "----\n",
      "(Iteration 330001 / 443010) loss: 42.323424\n",
      "----\n",
      " ffpistngering ountries.\n",
      "The enton?\"\n",
      "\"\n",
      "HHowShover to the Henther lookiny.  We its,\" said at Werent,\" said Hermeeportly.\n",
      "\"Where smomblewoldome sik was but a mastch and the strets was hap en something at \n",
      "----\n",
      "(Iteration 340001 / 443010) loss: 42.766548\n",
      "----\n",
      " ken the Jorkended's her ho rose, Vag thire you andwice wroag Take sard Cumpill.  As it all could was cark, Harry shand simery, - and was then in the sharter rafirainst the offer with a banted and What \n",
      "----\n",
      "(Iteration 350001 / 443010) loss: 42.278348\n",
      "----\n",
      " hey no verytly.\n",
      "Geon!\" Wery'rred Abo dizater around.  He he sullenod of moin,\" leay byenbing in sharthing, they kediff as murely palpsofion bref and throple go, slifgenter.\n",
      "\"You of excent welungiond,  \n",
      "----\n",
      "(Iteration 360001 / 443010) loss: 43.671559\n",
      "----\n",
      " oun thak you have get toon planfers could parting epat some-ntaiced champiod, jush, himseloow an, whohe afforg - Hogwing, and roll was want to the stipped?\"\n",
      "\"From Pang prips in his latounding tome hel \n",
      "----\n",
      "(Iteration 370001 / 443010) loss: 42.066621\n",
      "----\n",
      " reaties, aletel.  Wet tro wropsts ame Not and come on all one more onured day's not behind to find the Hagrid we durnering the bean it.  Ockly wan were frost's the sostaction.  \"We sarts keacuriated l \n",
      "----\n",
      "(Iteration 380001 / 443010) loss: 42.483442\n",
      "----\n",
      " h to ever didagom canrts faciell armowed fow. . . . . .  Ive not looking leep the clote and home, fakiced sivissock ait not trapicalped in like themef you ruth, though gridgdiffins,\" said Harry out.   \n",
      "----\n",
      "(Iteration 390001 / 443010) loss: 40.961367\n",
      "----\n",
      " es back viek them to the ednersond?\"\n",
      "\t\"It ween undering, as moot of the was worlin and his look rooms her of voigh witch at anpme cering with ment to at he kingging for untine the looking you that ske \n",
      "----\n",
      "(Iteration 400001 / 443010) loss: 42.127922\n",
      "----\n",
      "  Ron, suitiess awnone noun think, andee, the rettayed Krumched it\"\n",
      "\"Owind, rowed firme will down and it's cluscholle the clece.\n",
      "He distrent would geancepids turd malaly hive-ene beade lefl wake great  \n",
      "----\n",
      "(Iteration 410001 / 443010) loss: 43.417084\n",
      "----\n",
      "  af.  Ok awaystand tow to you hels of Fle her stizion, but foo Intle - Harry her back.\n",
      "\"Book did fort.  Fung pold.  \"Trowen the Medm not them coared!\"\n",
      "Wheored, shorol of of with be thrmimare.  Dudge's \n",
      "----\n",
      "(Iteration 420001 / 443010) loss: 41.410558\n",
      "----\n",
      " nd - now Ron for gridnaw take Porlering to glots.  \"Westre moved, anjuride gollespsted into the tear arouc still were have held steair-carlinch.  Os deape bitter? \"Pody - his and Perve day asking Pooc \n",
      "----\n",
      "(Iteration 430001 / 443010) loss: 42.339964\n",
      "----\n",
      "  very of indave a har the of seveaked.\"\n",
      "Harmione thougllide Harry of of there beeried.  Arterytoned.  \"Ed is bast lostems me to it cloged and Eath the used ceth eye\n",
      "Voldealf trean.  Ow and all to from \n",
      "----\n",
      "(Iteration 440001 / 443010) loss: 40.835866\n",
      "Execution time:  3841.2811501026154\n"
     ]
    }
   ],
   "source": [
    "net = RNN()\n",
    "model = Model(net, book_data,\n",
    "              num_epochs=10,\n",
    "              optimizer='adagrad',\n",
    "              optim_config={\n",
    "                  'learning_rate': 0.1},\n",
    "              verbose=True, print_every=10000)\n",
    "\n",
    "tic = time.time()\n",
    "model.train()\n",
    "toc = time.time()\n",
    "print('Execution time: ',toc-tic)"
   ]
  },
  {
   "cell_type": "code",
   "execution_count": 12,
   "metadata": {},
   "outputs": [
    {
     "data": {
      "image/png": "[encoded data removed]",
      "text/plain": [
       "<Figure size 432x288 with 1 Axes>"
      ]
     },
     "metadata": {
      "needs_background": "light"
     },
     "output_type": "display_data"
    }
   ],
   "source": [
    "n_updates = len(book_data)//25*model.num_epochs\n",
    "x = np.arange(0,n_updates,1000)\n",
    "loss = np.squeeze(np.array(model.loss_history))[x]\n",
    "plotResults(x,loss,name='smooth_loss',save_name='10_epochs_1000')"
   ]
  },
  {
   "cell_type": "code",
   "execution_count": 13,
   "metadata": {},
   "outputs": [
    {
     "name": "stdout",
     "output_type": "stream",
     "text": [
      "[[40.52186834]]\n",
      "ard, slel.  Sigwive the.  Lik very But Dumbledoref, and tormated nold himpeen,\" Harry son't laugher his to to anvicks.  \"He door me houghor, \"Thated them, but he's it orfath at it her sa tow Harry, \"Son.\"  \"Davenghed to in the a been for to Harry,\" he the comporing to reastle eybligh but beserived on the golles not her stormail offied.  \"Thet be would's cleatoms on stlace could tain.\"\n",
      "That was take got wint as the touther trees it and the end had wiel, Harry.  They ever to up aboit usted to his that Dup, wherily stay frowm the denge fet whose had Imbyges.  \"He were know. Dumbledore time ling with,\" said yed up orme've curming to that\n",
      "\"Now.  \"Moviet a girs,\" Iad gooked a whilp had the scraut not and shag sike Harry.  Harry dims told.  \"Soled Boway had the sally serted Dood; aront beandy apill theudgen the rowin info the tothof.  He toun ever tiks in the troulkstatifilct and Geoble that Dumbledore said, and Dumbledorrst.  Exs byemw.\n",
      "\"Dopters.  His drawing hern't fore staate slisen, it, h\n"
     ]
    }
   ],
   "source": [
    "print(model.best_loss)\n",
    "x0 = one_hot_matrix(book_data[0], model.model.vocab_size)\n",
    "\n",
    "xnext = model.model.sample(x0,1000)\n",
    "text = ''.join(int2char[ix] for ix in np.argmax(xnext, axis=0))\n",
    "print(text)"
   ]
  },
  {
   "cell_type": "code",
   "execution_count": null,
   "metadata": {},
   "outputs": [],
   "source": []
  }
 ],
 "metadata": {
  "kernelspec": {
   "display_name": "Python 3",
   "language": "python",
   "name": "python3"
  },
  "language_info": {
   "codemirror_mode": {
    "name": "ipython",
    "version": 3
   },
   "file_extension": ".py",
   "mimetype": "text/x-python",
   "name": "python",
   "nbconvert_exporter": "python",
   "pygments_lexer": "ipython3",
   "version": "3.7.1"
  }
 },
 "nbformat": 4,
 "nbformat_minor": 2
}
